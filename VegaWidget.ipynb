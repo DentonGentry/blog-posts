{
 "cells": [
  {
   "cell_type": "code",
   "execution_count": 28,
   "metadata": {},
   "outputs": [
    {
     "data": {
      "application/vnd.jupyter.widget-view+json": {
       "model_id": "413f2902e67d4866a74fc812b594d9a3",
       "version_major": 2,
       "version_minor": 0
      },
      "text/plain": [
       "Tab(children=(Output(), Output()), _titles={'0': 'Vega', '1': 'HTML'})"
      ]
     },
     "metadata": {},
     "output_type": "display_data"
    }
   ],
   "source": [
    "import altair as alt\n",
    "import ipywidgets\n",
    "import numpy as np\n",
    "import pandas as pd\n",
    "\n",
    "# Generate a sin wave as data\n",
    "t = np.arange(0.0, 2.0, 0.01)\n",
    "s = 1 + np.sin(2*np.pi*t)\n",
    "df = pd.DataFrame(list(zip(s, t)), columns=['sin', 't'])\n",
    "\n",
    "# https://altair-viz.github.io/\n",
    "chart = alt.Chart(df).mark_line().encode(\n",
    "    y='sin', x='t', tooltip=['sin', 't']\n",
    ").interactive().to_dict()\n",
    "\n",
    "# Capture the display of the Altair chart, using the Output widget\n",
    "vega_tab = ipywidgets.Output()\n",
    "with vega_tab:\n",
    "    # https://github.com/ipython/ipython/blob/master/IPython/core/display.py\n",
    "    display({\n",
    "        \"application/vnd.vegalite.v2+json\": chart,\n",
    "    }, raw=True)\n",
    "\n",
    "    \n",
    "html_tab = ipywidgets.Output()\n",
    "with html_tab:\n",
    "    display(ipywidgets.HTML(\"<html><body>Dummy content to show that the Tab does work.</body></html>\"))\n",
    "\n",
    "\n",
    "tabs = ipywidgets.Tab(children=[vega_tab, html_tab])\n",
    "tabs.set_title(0, \"Vega\")\n",
    "tabs.set_title(1, \"HTML\")\n",
    "display(tabs)"
   ]
  },
  {
   "cell_type": "code",
   "execution_count": null,
   "metadata": {},
   "outputs": [],
   "source": []
  }
 ],
 "metadata": {
  "kernelspec": {
   "display_name": "Python 3",
   "language": "python",
   "name": "python3"
  },
  "language_info": {
   "codemirror_mode": {
    "name": "ipython",
    "version": 3
   },
   "file_extension": ".py",
   "mimetype": "text/x-python",
   "name": "python",
   "nbconvert_exporter": "python",
   "pygments_lexer": "ipython3",
   "version": "3.7.0"
  }
 },
 "nbformat": 4,
 "nbformat_minor": 2
}
