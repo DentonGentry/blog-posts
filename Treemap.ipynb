{
 "cells": [
  {
   "cell_type": "code",
   "execution_count": 2,
   "metadata": {},
   "outputs": [
    {
     "data": {
      "application/vnd.vega.v4+json": {
       "$schema": "https://vega.github.io/schema/vega/v4.json",
       "autosize": "none",
       "data": [
        {
         "name": "drawdown",
         "transform": [
          {
           "key": "id",
           "parentKey": "parent",
           "type": "stratify"
          },
          {
           "field": "size",
           "method": {
            "signal": "layout"
           },
           "ratio": {
            "signal": "aspectRatio"
           },
           "round": true,
           "size": [
            {
             "signal": "width"
            },
            {
             "signal": "height"
            }
           ],
           "sort": {
            "field": "value"
           },
           "type": "treemap"
          }
         ],
         "values": [
          {
           "children": 7,
           "depth": 0,
           "id": 1,
           "x0": 0,
           "x1": 400,
           "y0": 0,
           "y1": 800
          },
          {
           "children": 13,
           "color": "SteelBlue",
           "depth": 1,
           "id": 2,
           "name": "Buildings and Cities",
           "parent": 1,
           "x0": 89,
           "x1": 195,
           "y0": 0,
           "y1": 159
          },
          {
           "children": 16,
           "color": "Peru",
           "depth": 1,
           "id": 3,
           "name": "Electricity Generation",
           "parent": 1,
           "x0": 0,
           "x1": 173,
           "y0": 361,
           "y1": 800
          },
          {
           "children": 17,
           "color": "FireBrick",
           "depth": 1,
           "id": 4,
           "name": "Food",
           "parent": 1,
           "x0": 173,
           "x1": 400,
           "y0": 361,
           "y1": 800
          },
          {
           "children": 9,
           "color": "Green",
           "depth": 1,
           "id": 5,
           "name": "Land Use",
           "parent": 1,
           "x0": 171,
           "x1": 400,
           "y0": 159,
           "y1": 361
          },
          {
           "children": 7,
           "color": "RebeccaPurple",
           "depth": 1,
           "id": 6,
           "name": "Materials",
           "parent": 1,
           "x0": 0,
           "x1": 171,
           "y0": 159,
           "y1": 361
          },
          {
           "children": 11,
           "color": "Teal",
           "depth": 1,
           "id": 7,
           "name": "Transport",
           "parent": 1,
           "x0": 0,
           "x1": 89,
           "y0": 0,
           "y1": 159
          },
          {
           "children": 3,
           "color": "DarkGoldenRod",
           "depth": 1,
           "id": 8,
           "name": "Women and Girls",
           "parent": 1,
           "x0": 195,
           "x1": 400,
           "y0": 0,
           "y1": 159
          },
          {
           "children": 0,
           "depth": 2,
           "id": 9,
           "name": "Refrigerant Management",
           "parent": 6,
           "size": 89.74,
           "x0": 12,
           "x1": 171,
           "y0": 186,
           "y1": 361
          },
          {
           "children": 0,
           "depth": 2,
           "id": 10,
           "name": "Wind Turbines (Onshore)",
           "parent": 3,
           "size": 84.6,
           "x0": 53,
           "x1": 173,
           "y0": 583,
           "y1": 800
          },
          {
           "children": 0,
           "depth": 2,
           "id": 11,
           "name": "Reduced Food Waste",
           "parent": 4,
           "size": 70.53,
           "x0": 173,
           "x1": 400,
           "y0": 704,
           "y1": 800
          },
          {
           "children": 0,
           "depth": 2,
           "id": 12,
           "name": "Plant-Rich Diet",
           "parent": 4,
           "size": 66.11,
           "x0": 246,
           "x1": 400,
           "y0": 571,
           "y1": 704
          },
          {
           "children": 0,
           "depth": 2,
           "id": 13,
           "name": "Tropical Forests",
           "parent": 5,
           "size": 61.23,
           "x0": 211,
           "x1": 400,
           "y0": 261,
           "y1": 361
          },
          {
           "children": 0,
           "depth": 2,
           "id": 14,
           "name": "Educating Girls",
           "parent": 8,
           "size": 51.48,
           "x0": 195,
           "x1": 300,
           "y0": 6,
           "y1": 159
          },
          {
           "children": 0,
           "depth": 2,
           "id": 15,
           "name": "Family Planning",
           "parent": 8,
           "size": 51.48,
           "x0": 300,
           "x1": 400,
           "y0": 0,
           "y1": 159
          },
          {
           "children": 0,
           "depth": 2,
           "id": 16,
           "name": "Solar Farms",
           "parent": 3,
           "size": 36.9,
           "x0": 0,
           "x1": 53,
           "y0": 583,
           "y1": 800
          },
          {
           "children": 0,
           "depth": 2,
           "id": 17,
           "name": "Silvopasture",
           "parent": 4,
           "size": 31.19,
           "x0": 173,
           "x1": 246,
           "y0": 571,
           "y1": 704
          },
          {
           "children": 0,
           "depth": 2,
           "id": 18,
           "name": "Rooftop Solar",
           "parent": 3,
           "size": 24.6,
           "x0": 70,
           "x1": 173,
           "y0": 510,
           "y1": 583
          },
          {
           "children": 0,
           "depth": 2,
           "id": 19,
           "name": "Regenerative Agriculture",
           "parent": 4,
           "size": 23.15,
           "x0": 314,
           "x1": 400,
           "y0": 488,
           "y1": 571
          },
          {
           "children": 0,
           "depth": 2,
           "id": 20,
           "name": "Temperate Forests",
           "parent": 5,
           "size": 22.61,
           "x0": 331,
           "x1": 400,
           "y0": 159,
           "y1": 261
          },
          {
           "children": 0,
           "depth": 2,
           "id": 21,
           "name": "Peatlands",
           "parent": 5,
           "size": 21.57,
           "x0": 266,
           "x1": 331,
           "y0": 159,
           "y1": 261
          },
          {
           "children": 0,
           "depth": 2,
           "id": 22,
           "name": "Tropical Staple Trees",
           "parent": 4,
           "size": 20.19,
           "x0": 238,
           "x1": 314,
           "y0": 488,
           "y1": 571
          },
          {
           "children": 0,
           "depth": 2,
           "id": 23,
           "name": "Afforestation",
           "parent": 5,
           "size": 18.06,
           "x0": 211,
           "x1": 266,
           "y0": 159,
           "y1": 261
          },
          {
           "children": 0,
           "depth": 2,
           "id": 24,
           "name": "Conservation Agriculture",
           "parent": 4,
           "size": 17.35,
           "x0": 173,
           "x1": 238,
           "y0": 488,
           "y1": 571
          },
          {
           "children": 0,
           "depth": 2,
           "id": 25,
           "name": "Tree Intercropping",
           "parent": 4,
           "size": 17.2,
           "x0": 339,
           "x1": 400,
           "y0": 402,
           "y1": 488
          },
          {
           "children": 0,
           "depth": 2,
           "id": 26,
           "name": "Geothermal",
           "parent": 3,
           "size": 16.6,
           "x0": 0,
           "x1": 70,
           "y0": 510,
           "y1": 583
          },
          {
           "children": 0,
           "depth": 2,
           "id": 27,
           "name": "Managed Grazing",
           "parent": 4,
           "size": 16.34,
           "x0": 280,
           "x1": 339,
           "y0": 402,
           "y1": 488
          },
          {
           "children": 0,
           "depth": 2,
           "id": 28,
           "name": "Nuclear",
           "parent": 3,
           "size": 16.09,
           "x0": 105,
           "x1": 173,
           "y0": 436,
           "y1": 510
          },
          {
           "children": 0,
           "depth": 2,
           "id": 29,
           "name": "Clean Cookstoves",
           "parent": 4,
           "size": 15.81,
           "x0": 224,
           "x1": 280,
           "y0": 402,
           "y1": 488
          },
          {
           "children": 0,
           "depth": 2,
           "id": 30,
           "name": "Wind Turbines (Offshore)",
           "parent": 3,
           "size": 14.1,
           "x0": 46,
           "x1": 105,
           "y0": 436,
           "y1": 510
          },
          {
           "children": 0,
           "depth": 2,
           "id": 31,
           "name": "Farmland Restoration",
           "parent": 4,
           "size": 14.08,
           "x0": 173,
           "x1": 224,
           "y0": 402,
           "y1": 488
          },
          {
           "children": 0,
           "depth": 2,
           "id": 32,
           "name": "Improved Rice Cultivation",
           "parent": 4,
           "size": 11.34,
           "x0": 314,
           "x1": 400,
           "y0": 361,
           "y1": 402
          },
          {
           "children": 0,
           "depth": 2,
           "id": 33,
           "name": "Concentrated Solar",
           "parent": 3,
           "size": 10.9,
           "x0": 0,
           "x1": 46,
           "y0": 436,
           "y1": 510
          },
          {
           "children": 0,
           "depth": 2,
           "id": 34,
           "name": "Electric Vehicles",
           "parent": 7,
           "size": 10.8,
           "x0": 51,
           "x1": 89,
           "y0": 71,
           "y1": 159
          },
          {
           "children": 0,
           "depth": 2,
           "id": 35,
           "name": "District Heating",
           "parent": 2,
           "size": 9.38,
           "x0": 163,
           "x1": 195,
           "y0": 69,
           "y1": 159
          },
          {
           "children": 0,
           "depth": 2,
           "id": 36,
           "name": "Multistrata Agroforestry",
           "parent": 4,
           "size": 9.28,
           "x0": 244,
           "x1": 314,
           "y0": 361,
           "y1": 402
          },
          {
           "children": 0,
           "depth": 2,
           "id": 37,
           "name": "Wave and Tidal",
           "parent": 3,
           "size": 9.2,
           "x0": 122,
           "x1": 173,
           "y0": 381,
           "y1": 436
          },
          {
           "children": 0,
           "depth": 2,
           "id": 38,
           "name": "Methane Digesters (Large)",
           "parent": 3,
           "size": 8.4,
           "x0": 75,
           "x1": 122,
           "y0": 381,
           "y1": 436
          },
          {
           "children": 0,
           "depth": 2,
           "id": 39,
           "name": "Insulation",
           "parent": 2,
           "size": 8.27,
           "x0": 134,
           "x1": 163,
           "y0": 69,
           "y1": 159
          },
          {
           "children": 0,
           "depth": 2,
           "id": 40,
           "name": "Ships",
           "parent": 7,
           "size": 7.87,
           "x0": 0,
           "x1": 51,
           "y0": 111,
           "y1": 159
          },
          {
           "children": 0,
           "depth": 2,
           "id": 41,
           "name": "LED Lighting (Household)",
           "parent": 2,
           "size": 7.81,
           "x0": 89,
           "x1": 134,
           "y0": 105,
           "y1": 159
          },
          {
           "children": 0,
           "depth": 2,
           "id": 42,
           "name": "Biomass",
           "parent": 3,
           "size": 7.5,
           "x0": 34,
           "x1": 75,
           "y0": 381,
           "y1": 436
          },
          {
           "children": 0,
           "depth": 2,
           "id": 43,
           "name": "Bamboo",
           "parent": 5,
           "size": 7.22,
           "x0": 171,
           "x1": 211,
           "y0": 305,
           "y1": 361
          },
          {
           "children": 0,
           "depth": 2,
           "id": 44,
           "name": "Alternative Cement",
           "parent": 6,
           "size": 6.69,
           "x0": 0,
           "x1": 12,
           "y0": 186,
           "y1": 361
          },
          {
           "children": 0,
           "depth": 2,
           "id": 45,
           "name": "Mass Transit",
           "parent": 7,
           "size": 6.57,
           "x0": 0,
           "x1": 51,
           "y0": 71,
           "y1": 111
          },
          {
           "children": 0,
           "depth": 2,
           "id": 46,
           "name": "Forest Protection",
           "parent": 5,
           "size": 6.2,
           "x0": 171,
           "x1": 211,
           "y0": 257,
           "y1": 305
          },
          {
           "children": 0,
           "depth": 2,
           "id": 47,
           "name": "Indigenous Peoples’ Land Management",
           "parent": 5,
           "size": 6.19,
           "x0": 171,
           "x1": 211,
           "y0": 209,
           "y1": 257
          },
          {
           "children": 0,
           "depth": 2,
           "id": 48,
           "name": "Trucks",
           "parent": 7,
           "size": 6.18,
           "x0": 53,
           "x1": 89,
           "y0": 18,
           "y1": 71
          },
          {
           "children": 0,
           "depth": 2,
           "id": 49,
           "name": "Solar Water",
           "parent": 3,
           "size": 6.08,
           "x0": 0,
           "x1": 34,
           "y0": 381,
           "y1": 436
          },
          {
           "children": 0,
           "depth": 2,
           "id": 50,
           "name": "Heat Pumps",
           "parent": 2,
           "size": 5.2,
           "x0": 89,
           "x1": 134,
           "y0": 69,
           "y1": 105
          },
          {
           "children": 0,
           "depth": 2,
           "id": 51,
           "name": "Airplanes",
           "parent": 7,
           "size": 5.05,
           "x0": 23,
           "x1": 53,
           "y0": 18,
           "y1": 71
          },
          {
           "children": 0,
           "depth": 2,
           "id": 52,
           "name": "LED Lighting (Commercial)",
           "parent": 2,
           "size": 5.04,
           "x0": 160,
           "x1": 195,
           "y0": 25,
           "y1": 69
          },
          {
           "children": 0,
           "depth": 2,
           "id": 53,
           "name": "Building Automation",
           "parent": 2,
           "size": 4.62,
           "x0": 128,
           "x1": 160,
           "y0": 25,
           "y1": 69
          },
          {
           "children": 0,
           "depth": 2,
           "id": 54,
           "name": "Water Saving - Home",
           "parent": 6,
           "size": 4.61,
           "x0": 120,
           "x1": 171,
           "y0": 159,
           "y1": 186
          },
          {
           "children": 0,
           "depth": 2,
           "id": 55,
           "name": "Bioplastic",
           "parent": 6,
           "size": 4.3,
           "x0": 72,
           "x1": 120,
           "y0": 159,
           "y1": 186
          },
          {
           "children": 0,
           "depth": 2,
           "id": 56,
           "name": "In-Stream Hydro",
           "parent": 3,
           "size": 4,
           "x0": 111,
           "x1": 173,
           "y0": 361,
           "y1": 381
          },
          {
           "children": 0,
           "depth": 2,
           "id": 57,
           "name": "Cars",
           "parent": 7,
           "size": 4,
           "x0": 0,
           "x1": 23,
           "y0": 18,
           "y1": 71
          },
          {
           "children": 0,
           "depth": 2,
           "id": 58,
           "name": "Cogeneration",
           "parent": 3,
           "size": 3.97,
           "x0": 50,
           "x1": 111,
           "y0": 361,
           "y1": 381
          },
          {
           "children": 0,
           "depth": 2,
           "id": 59,
           "name": "Perennial Biomass",
           "parent": 5,
           "size": 3.33,
           "x0": 171,
           "x1": 211,
           "y0": 183,
           "y1": 209
          },
          {
           "children": 0,
           "depth": 2,
           "id": 60,
           "name": "Coastal Wetlands",
           "parent": 5,
           "size": 3.19,
           "x0": 171,
           "x1": 211,
           "y0": 159,
           "y1": 183
          },
          {
           "children": 0,
           "depth": 2,
           "id": 61,
           "name": "System of Rice Intensification",
           "parent": 4,
           "size": 3.13,
           "x0": 220,
           "x1": 244,
           "y0": 361,
           "y1": 402
          },
          {
           "children": 0,
           "depth": 2,
           "id": 62,
           "name": "Walkable Cities",
           "parent": 2,
           "size": 2.92,
           "x0": 107,
           "x1": 128,
           "y0": 25,
           "y1": 69
          },
          {
           "children": 0,
           "depth": 2,
           "id": 63,
           "name": "Household Recycling",
           "parent": 6,
           "size": 2.77,
           "x0": 10,
           "x1": 41,
           "y0": 159,
           "y1": 186
          },
          {
           "children": 0,
           "depth": 2,
           "id": 64,
           "name": "Industrial Recycling",
           "parent": 6,
           "size": 2.77,
           "x0": 41,
           "x1": 72,
           "y0": 159,
           "y1": 186
          },
          {
           "children": 0,
           "depth": 2,
           "id": 65,
           "name": "Smart Thermostats",
           "parent": 2,
           "size": 2.62,
           "x0": 89,
           "x1": 107,
           "y0": 25,
           "y1": 69
          },
          {
           "children": 0,
           "depth": 2,
           "id": 66,
           "name": "Landfill Methane",
           "parent": 2,
           "size": 2.5,
           "x0": 165,
           "x1": 195,
           "y0": 0,
           "y1": 25
          },
          {
           "children": 0,
           "depth": 2,
           "id": 67,
           "name": "Bike Infrastructure",
           "parent": 2,
           "size": 2.31,
           "x0": 136,
           "x1": 165,
           "y0": 0,
           "y1": 25
          },
          {
           "children": 0,
           "depth": 2,
           "id": 68,
           "name": "Composting",
           "parent": 4,
           "size": 2.28,
           "x0": 203,
           "x1": 220,
           "y0": 361,
           "y1": 402
          },
          {
           "children": 0,
           "depth": 2,
           "id": 69,
           "name": "Smart Glass",
           "parent": 2,
           "size": 2.19,
           "x0": 109,
           "x1": 136,
           "y0": 0,
           "y1": 25
          },
          {
           "children": 0,
           "depth": 2,
           "id": 70,
           "name": "Women Smallholders",
           "parent": 8,
           "size": 2.06,
           "x0": 195,
           "x1": 300,
           "y0": 0,
           "y1": 6
          },
          {
           "children": 0,
           "depth": 2,
           "id": 71,
           "name": "Telepresence",
           "parent": 7,
           "size": 1.99,
           "x0": 56,
           "x1": 89,
           "y0": 0,
           "y1": 18
          },
          {
           "children": 0,
           "depth": 2,
           "id": 72,
           "name": "Methane Digesters (Small)",
           "parent": 3,
           "size": 1.9,
           "x0": 20,
           "x1": 50,
           "y0": 361,
           "y1": 381
          },
          {
           "children": 0,
           "depth": 2,
           "id": 73,
           "name": "Nutrient Management",
           "parent": 4,
           "size": 1.81,
           "x0": 189,
           "x1": 203,
           "y0": 361,
           "y1": 402
          },
          {
           "children": 0,
           "depth": 2,
           "id": 74,
           "name": "High-speed Rail",
           "parent": 7,
           "size": 1.52,
           "x0": 30,
           "x1": 56,
           "y0": 0,
           "y1": 18
          },
          {
           "children": 0,
           "depth": 2,
           "id": 75,
           "name": "Farmland Irrigation",
           "parent": 4,
           "size": 1.33,
           "x0": 179,
           "x1": 189,
           "y0": 361,
           "y1": 402
          },
          {
           "children": 0,
           "depth": 2,
           "id": 76,
           "name": "Waste-to-Energy",
           "parent": 3,
           "size": 1.1,
           "x0": 3,
           "x1": 20,
           "y0": 361,
           "y1": 381
          },
          {
           "children": 0,
           "depth": 2,
           "id": 77,
           "name": "Electric Bikes",
           "parent": 7,
           "size": 0.96,
           "x0": 14,
           "x1": 30,
           "y0": 0,
           "y1": 18
          },
          {
           "children": 0,
           "depth": 2,
           "id": 78,
           "name": "Recycled Paper",
           "parent": 6,
           "size": 0.9,
           "x0": 0,
           "x1": 10,
           "y0": 159,
           "y1": 186
          },
          {
           "children": 0,
           "depth": 2,
           "id": 79,
           "name": "Water Distribution",
           "parent": 2,
           "size": 0.87,
           "x0": 99,
           "x1": 109,
           "y0": 0,
           "y1": 25
          },
          {
           "children": 0,
           "depth": 2,
           "id": 80,
           "name": "Biochar",
           "parent": 4,
           "size": 0.81,
           "x0": 173,
           "x1": 179,
           "y0": 361,
           "y1": 402
          },
          {
           "children": 0,
           "depth": 2,
           "id": 81,
           "name": "Green Roofs",
           "parent": 2,
           "size": 0.77,
           "x0": 89,
           "x1": 99,
           "y0": 0,
           "y1": 25
          },
          {
           "children": 0,
           "depth": 2,
           "id": 82,
           "name": "Trains",
           "parent": 7,
           "size": 0.52,
           "x0": 5,
           "x1": 14,
           "y0": 0,
           "y1": 18
          },
          {
           "children": 0,
           "depth": 2,
           "id": 83,
           "name": "Ridesharing",
           "parent": 7,
           "size": 0.32,
           "x0": 0,
           "x1": 5,
           "y0": 0,
           "y1": 18
          },
          {
           "children": 0,
           "depth": 2,
           "id": 84,
           "name": "Micro Wind",
           "parent": 3,
           "size": 0.2,
           "x0": 0,
           "x1": 3,
           "y0": 361,
           "y1": 381
          }
         ]
        },
        {
         "name": "nodes",
         "source": "drawdown",
         "transform": [
          {
           "expr": "datum.children",
           "type": "filter"
          }
         ]
        },
        {
         "name": "leaves",
         "source": "drawdown",
         "transform": [
          {
           "expr": "!datum.children",
           "type": "filter"
          }
         ]
        }
       ],
       "height": 800,
       "marks": [
        {
         "encode": {
          "enter": {
           "fill": {
            "field": "name",
            "scale": "color"
           }
          },
          "update": {
           "x": {
            "field": "x0"
           },
           "x2": {
            "field": "x1"
           },
           "y": {
            "field": "y0"
           },
           "y2": {
            "field": "y1"
           }
          }
         },
         "from": {
          "data": "nodes"
         },
         "interactive": false,
         "type": "rect"
        },
        {
         "encode": {
          "enter": {
           "stroke": {
            "value": "#fff"
           },
           "tooltip": {
            "signal": "{title: datum.name, 'CO2eq': datum.size + ' Gigatons'}"
           }
          },
          "hover": {
           "fill": {
            "value": "gray"
           }
          },
          "update": {
           "fill": {
            "value": "transparent"
           },
           "x": {
            "field": "x0"
           },
           "x2": {
            "field": "x1"
           },
           "y": {
            "field": "y0"
           },
           "y2": {
            "field": "y1"
           }
          }
         },
         "from": {
          "data": "leaves"
         },
         "type": "rect"
        },
        {
         "encode": {
          "enter": {
           "align": {
            "value": "center"
           },
           "angle": {
            "value": -62
           },
           "baseline": {
            "value": "middle"
           },
           "fill": {
            "value": "#fff"
           },
           "fillOpacity": {
            "value": 1
           },
           "font": {
            "value": "Helvetica Neue, Arial"
           },
           "fontSize": {
            "value": 18
           },
           "text": {
            "field": "name"
           }
          },
          "update": {
           "x": {
            "signal": "0.5 * (datum.x0 + datum.x1)"
           },
           "y": {
            "signal": "0.5 * (datum.y0 + datum.y1)"
           }
          }
         },
         "from": {
          "data": "nodes"
         },
         "interactive": false,
         "type": "text"
        }
       ],
       "padding": 2.5,
       "scales": [
        {
         "domain": [
          "Materials",
          "Electricity Generation",
          "Food",
          "Land Use",
          "Women and Girls",
          "Transport",
          "Buildings and Cities"
         ],
         "name": "color",
         "range": [
          "RebeccaPurple",
          "Peru",
          "FireBrick",
          "Green",
          "DarkGoldenRod",
          "Teal",
          "SteelBlue"
         ],
         "type": "ordinal"
        }
       ],
       "signals": [
        {
         "name": "layout",
         "value": "squarify"
        },
        {
         "name": "aspectRatio",
         "value": 1.6
        }
       ],
       "width": 400
      },
      "image/png": "[encoded data removed]"
     },
     "metadata": {},
     "output_type": "display_data"
    }
   ],
   "source": [
    "display({\n",
    "'application/vnd.vega.v4+json': {\n",
    "    '$schema': 'https://vega.github.io/schema/vega/v4.json',\n",
    "    'width': 400, 'height': 800, 'padding': 2.5, 'autosize': 'none',\n",
    "    \n",
    "    'signals': [{'name': 'layout', 'value': 'squarify'},\n",
    "                {'name': 'aspectRatio', 'value': 1.6}],\n",
    "    'data': [{'name': 'drawdown',\n",
    "              'values': [{'id': 1},\n",
    "                         {'id': 2, 'name': 'Buildings and Cities', 'parent': 1, 'color': 'SteelBlue'},\n",
    "                         {'id': 3, 'name': 'Electricity Generation', 'parent': 1, 'color': 'Peru'},\n",
    "                         {'id': 4, 'name': 'Food', 'parent': 1, 'color': 'FireBrick'},\n",
    "                         {'id': 5, 'name': 'Land Use', 'parent': 1, 'color': 'Green'},\n",
    "                         {'id': 6, 'name': 'Materials', 'parent': 1, 'color': 'RebeccaPurple'},\n",
    "                         {'id': 7, 'name': 'Transport', 'parent': 1, 'color': 'Teal'},\n",
    "                         {'id': 8, 'name': 'Women and Girls', 'parent': 1, 'color': 'DarkGoldenRod'},\n",
    "                         {'id': 9, 'name': 'Refrigerant Management', 'parent': 6, 'size': 89.74},\n",
    "                         {'id': 10, 'name': 'Wind Turbines (Onshore)', 'parent': 3, 'size': 84.6},\n",
    "                         {'id': 11, 'name': 'Reduced Food Waste', 'parent': 4, 'size': 70.53},\n",
    "                         {'id': 12, 'name': 'Plant-Rich Diet', 'parent': 4, 'size': 66.11},\n",
    "                         {'id': 13, 'name': 'Tropical Forests', 'parent': 5, 'size': 61.23},\n",
    "                         {'id': 14, 'name': 'Educating Girls', 'parent': 8, 'size': 51.48},\n",
    "                         {'id': 15, 'name': 'Family Planning', 'parent': 8, 'size': 51.48},\n",
    "                         {'id': 16, 'name': 'Solar Farms', 'parent': 3, 'size': 36.9},\n",
    "                         {'id': 17, 'name': 'Silvopasture', 'parent': 4, 'size': 31.19},\n",
    "                         {'id': 18, 'name': 'Rooftop Solar', 'parent': 3, 'size': 24.6},\n",
    "                         {'id': 19, 'name': 'Regenerative Agriculture', 'parent': 4, 'size': 23.15},\n",
    "                         {'id': 20, 'name': 'Temperate Forests', 'parent': 5, 'size': 22.61},\n",
    "                         {'id': 21, 'name': 'Peatlands', 'parent': 5, 'size': 21.57},\n",
    "                         {'id': 22, 'name': 'Tropical Staple Trees', 'parent': 4, 'size': 20.19},\n",
    "                         {'id': 23, 'name': 'Afforestation', 'parent': 5, 'size': 18.06},\n",
    "                         {'id': 24, 'name': 'Conservation Agriculture', 'parent': 4, 'size': 17.35},\n",
    "                         {'id': 25, 'name': 'Tree Intercropping', 'parent': 4, 'size': 17.2},\n",
    "                         {'id': 26, 'name': 'Geothermal', 'parent': 3, 'size': 16.6},\n",
    "                         {'id': 27, 'name': 'Managed Grazing', 'parent': 4, 'size': 16.34},\n",
    "                         {'id': 28, 'name': 'Nuclear', 'parent': 3, 'size': 16.09},\n",
    "                         {'id': 29, 'name': 'Clean Cookstoves', 'parent': 4, 'size': 15.81},\n",
    "                         {'id': 30, 'name': 'Wind Turbines (Offshore)', 'parent': 3, 'size': 14.1},\n",
    "                         {'id': 31, 'name': 'Farmland Restoration', 'parent': 4, 'size': 14.08},\n",
    "                         {'id': 32, 'name': 'Improved Rice Cultivation', 'parent': 4, 'size': 11.34},\n",
    "                         {'id': 33, 'name': 'Concentrated Solar', 'parent': 3, 'size': 10.9},\n",
    "                         {'id': 34, 'name': 'Electric Vehicles', 'parent': 7, 'size': 10.8},\n",
    "                         {'id': 35, 'name': 'District Heating', 'parent': 2, 'size': 9.38},\n",
    "                         {'id': 36, 'name': 'Multistrata Agroforestry', 'parent': 4, 'size': 9.28},\n",
    "                         {'id': 37, 'name': 'Wave and Tidal', 'parent': 3, 'size': 9.2},\n",
    "                         {'id': 38, 'name': 'Methane Digesters (Large)', 'parent': 3, 'size': 8.4},\n",
    "                         {'id': 39, 'name': 'Insulation', 'parent': 2, 'size': 8.27},\n",
    "                         {'id': 40, 'name': 'Ships', 'parent': 7, 'size': 7.87},\n",
    "                         {'id': 41, 'name': 'LED Lighting (Household)', 'parent': 2, 'size': 7.81},\n",
    "                         {'id': 42, 'name': 'Biomass', 'parent': 3, 'size': 7.5},\n",
    "                         {'id': 43, 'name': 'Bamboo', 'parent': 5, 'size': 7.22},\n",
    "                         {'id': 44, 'name': 'Alternative Cement', 'parent': 6, 'size': 6.69},\n",
    "                         {'id': 45, 'name': 'Mass Transit', 'parent': 7, 'size': 6.57},\n",
    "                         {'id': 46, 'name': 'Forest Protection', 'parent': 5, 'size': 6.2},\n",
    "                         {'id': 47, 'name': 'Indigenous Peoples’ Land Management', 'parent': 5, 'size': 6.19},\n",
    "                         {'id': 48, 'name': 'Trucks', 'parent': 7, 'size': 6.18},\n",
    "                         {'id': 49, 'name': 'Solar Water', 'parent': 3, 'size': 6.08},\n",
    "                         {'id': 50, 'name': 'Heat Pumps', 'parent': 2, 'size': 5.2},\n",
    "                         {'id': 51, 'name': 'Airplanes', 'parent': 7, 'size': 5.05},\n",
    "                         {'id': 52, 'name': 'LED Lighting (Commercial)', 'parent': 2, 'size': 5.04},\n",
    "                         {'id': 53, 'name': 'Building Automation', 'parent': 2, 'size': 4.62},\n",
    "                         {'id': 54, 'name': 'Water Saving - Home', 'parent': 6, 'size': 4.61},\n",
    "                         {'id': 55, 'name': 'Bioplastic', 'parent': 6, 'size': 4.3},\n",
    "                         {'id': 56, 'name': 'In-Stream Hydro', 'parent': 3, 'size': 4.0},\n",
    "                         {'id': 57, 'name': 'Cars', 'parent': 7, 'size': 4.0},\n",
    "                         {'id': 58, 'name': 'Cogeneration', 'parent': 3, 'size': 3.97},\n",
    "                         {'id': 59, 'name': 'Perennial Biomass', 'parent': 5, 'size': 3.33},\n",
    "                         {'id': 60, 'name': 'Coastal Wetlands', 'parent': 5, 'size': 3.19},\n",
    "                         {'id': 61, 'name': 'System of Rice Intensification', 'parent': 4, 'size': 3.13},\n",
    "                         {'id': 62, 'name': 'Walkable Cities', 'parent': 2, 'size': 2.92},\n",
    "                         {'id': 63, 'name': 'Household Recycling', 'parent': 6, 'size': 2.77},\n",
    "                         {'id': 64, 'name': 'Industrial Recycling', 'parent': 6, 'size': 2.77},\n",
    "                         {'id': 65, 'name': 'Smart Thermostats', 'parent': 2, 'size': 2.62},\n",
    "                         {'id': 66, 'name': 'Landfill Methane', 'parent': 2, 'size': 2.5},\n",
    "                         {'id': 67, 'name': 'Bike Infrastructure', 'parent': 2, 'size': 2.31},\n",
    "                         {'id': 68, 'name': 'Composting', 'parent': 4, 'size': 2.28},\n",
    "                         {'id': 69, 'name': 'Smart Glass', 'parent': 2, 'size': 2.19},\n",
    "                         {'id': 70, 'name': 'Women Smallholders', 'parent': 8, 'size': 2.06},\n",
    "                         {'id': 71, 'name': 'Telepresence', 'parent': 7, 'size': 1.99},\n",
    "                         {'id': 72, 'name': 'Methane Digesters (Small)', 'parent': 3, 'size': 1.9},\n",
    "                         {'id': 73, 'name': 'Nutrient Management', 'parent': 4, 'size': 1.81},\n",
    "                         {'id': 74, 'name': 'High-speed Rail', 'parent': 7, 'size': 1.52},\n",
    "                         {'id': 75, 'name': 'Farmland Irrigation', 'parent': 4, 'size': 1.33},\n",
    "                         {'id': 76, 'name': 'Waste-to-Energy', 'parent': 3, 'size': 1.1},\n",
    "                         {'id': 77, 'name': 'Electric Bikes', 'parent': 7, 'size': 0.96},\n",
    "                         {'id': 78, 'name': 'Recycled Paper', 'parent': 6, 'size': 0.9},\n",
    "                         {'id': 79, 'name': 'Water Distribution', 'parent': 2, 'size': 0.87},\n",
    "                         {'id': 80, 'name': 'Biochar', 'parent': 4, 'size': 0.81},\n",
    "                         {'id': 81, 'name': 'Green Roofs', 'parent': 2, 'size': 0.77},\n",
    "                         {'id': 82, 'name': 'Trains', 'parent': 7, 'size': 0.52},\n",
    "                         {'id': 83, 'name': 'Ridesharing', 'parent': 7, 'size': 0.32},\n",
    "                         {'id': 84, 'name': 'Micro Wind', 'parent': 3, 'size': 0.2}],\n",
    "              'transform': [\n",
    "                  {'type': 'stratify', 'key': 'id', 'parentKey': 'parent'},\n",
    "                  {'type': 'treemap', 'field': 'size', 'sort': {'field': 'value'},\n",
    "                   'round': True, 'method': {'signal': 'layout'}, 'ratio': {'signal': 'aspectRatio'},\n",
    "                   'size': [{'signal': 'width'}, {'signal': 'height'}]}\n",
    "              ]},\n",
    "             {'name': 'nodes', 'source': 'drawdown', 'transform': [\n",
    "                 {'type': 'filter', 'expr': 'datum.children'}]},\n",
    "             {'name': 'leaves', 'source': 'drawdown', 'transform': [\n",
    "                 {'type': 'filter', 'expr': '!datum.children'}]}\n",
    "            ],\n",
    "    'scales': [{'name': 'color', 'type': 'ordinal',\n",
    "                'domain': ['Materials', 'Electricity Generation', 'Food', 'Land Use',\n",
    "                           'Women and Girls', 'Transport', 'Buildings and Cities'],\n",
    "                'range': ['RebeccaPurple', 'Peru', 'FireBrick', 'Green', 'DarkGoldenRod',\n",
    "                          'Teal', 'SteelBlue']}],\n",
    "    'marks': [{'type': 'rect', 'from': {'data': 'nodes'}, 'interactive': False,\n",
    "               'encode': {'enter': {'fill': {'scale': 'color', 'field': 'name'}},\n",
    "                          'update': {'x': {'field': 'x0'}, 'y': {'field': 'y0'},\n",
    "                                     'x2': {'field': 'x1'}, 'y2': {'field': 'y1'}}}},\n",
    "              {'type': 'rect', 'from': {'data': 'leaves'},\n",
    "               'encode': {'enter': {'stroke': {'value': '#fff'},\n",
    "                                    'tooltip': {'signal': \"{title: datum.name, 'CO2eq': datum.size + ' Gigatons'}\"}},\n",
    "                          'update': {'x': {'field': 'x0'}, 'y': {'field': 'y0'}, 'x2': {'field': 'x1'},\n",
    "                                     'y2': {'field': 'y1'}, 'fill': {'value': 'transparent'}},\n",
    "                          'hover': {'fill': {'value': 'gray'}}}},\n",
    "              {'type': 'text', 'from': {'data': 'nodes'}, 'interactive': False,\n",
    "               'encode': {'enter': {'font': {'value': 'Helvetica Neue, Arial'},\n",
    "                                    'align': {'value': 'center'}, 'baseline': {'value': 'middle'},\n",
    "                                    'fill': {'value': '#fff'}, 'text': {'field': 'name'},\n",
    "                                    'fontSize': {'value': 18}, 'fillOpacity': {'value': 1.0},\n",
    "                                    'angle': {'value': -62.0}},\n",
    "                          'update': {'x': {'signal': '0.5 * (datum.x0 + datum.x1)'},\n",
    "                                     'y': {'signal': '0.5 * (datum.y0 + datum.y1)'}}}\n",
    "              }\n",
    "             ]\n",
    "}\n",
    "}, raw=True)"
   ]
  }
 ],
 "metadata": {
  "kernelspec": {
   "display_name": "Python 3",
   "language": "python",
   "name": "python3"
  },
  "language_info": {
   "codemirror_mode": {
    "name": "ipython",
    "version": 3
   },
   "file_extension": ".py",
   "mimetype": "text/x-python",
   "name": "python",
   "nbconvert_exporter": "python",
   "pygments_lexer": "ipython3",
   "version": "3.7.0"
  }
 },
 "nbformat": 4,
 "nbformat_minor": 2
}
