{
 "cells": [
  {
   "cell_type": "markdown",
   "metadata": {},
   "source": [
    "This code supports the blog post at https://codingrelic.geekhold.com/2019/02/line-graphs-in-jupyterlab.html\n",
    "\n",
    "If you are viewing this page on github, you are seeing a static rendering of the notebook not the interactive version described in the blog post. You can see the interactive version on [mybinder.org](https://mybinder.org/v2/gh/DentonGentry/blog-posts/master?urlpath=lab/tree/LineGraphs.ipynb)."
   ]
  },
  {
   "cell_type": "code",
   "execution_count": 15,
   "metadata": {},
   "outputs": [],
   "source": [
    "# generate data for subsequent cells to graph\n",
    "import pandas as pd\n",
    "import numpy as np\n",
    "\n",
    "t = np.arange(0.0, 2.0, 0.01)\n",
    "s = 1 + np.sin(2*np.pi*t)"
   ]
  },
  {
   "cell_type": "code",
   "execution_count": 20,
   "metadata": {},
   "outputs": [
    {
     "data": {
      "application/vnd.jupyter.widget-view+json": {
       "model_id": "9424d6a0b9d94dd1b1257ee24934c200",
       "version_major": 2,
       "version_minor": 0
      },
      "text/plain": [
       "FigureCanvasNbAgg()"
      ]
     },
     "metadata": {},
     "output_type": "display_data"
    }
   ],
   "source": [
    "# https://matplotlib.org/\n",
    "import matplotlib\n",
    "import matplotlib.pyplot as plt\n",
    "%matplotlib ipympl\n",
    "\n",
    "plt.plot(t, s)\n",
    "plt.grid(True)\n",
    "plt.show()\n",
    "# If nothing appears, please run this cell a second time."
   ]
  },
  {
   "cell_type": "code",
   "execution_count": 14,
   "metadata": {},
   "outputs": [
    {
     "data": {
      "text/html": [
       "\n",
       "    <div class=\"bk-root\">\n",
       "        <a href=\"https://bokeh.pydata.org\" target=\"_blank\" class=\"bk-logo bk-logo-small bk-logo-notebook\"></a>\n",
       "        <span id=\"1220\">Loading BokehJS ...</span>\n",
       "    </div>"
      ]
     },
     "metadata": {},
     "output_type": "display_data"
    },
    {
     "data": {
      "application/javascript": [
       "\n",
       "(function(root) {\n",
       "  function now() {\n",
       "    return new Date();\n",
       "  }\n",
       "\n",
       "  var force = true;\n",
       "\n",
       "  if (typeof (root._bokeh_onload_callbacks) === \"undefined\" || force === true) {\n",
       "    root._bokeh_onload_callbacks = [];\n",
       "    root._bokeh_is_loading = undefined;\n",
       "  }\n",
       "\n",
       "  var JS_MIME_TYPE = 'application/javascript';\n",
       "  var HTML_MIME_TYPE = 'text/html';\n",
       "  var EXEC_MIME_TYPE = 'application/vnd.bokehjs_exec.v0+json';\n",
       "  var CLASS_NAME = 'output_bokeh rendered_html';\n",
       "\n",
       "  /**\n",
       "   * Render data to the DOM node\n",
       "   */\n",
       "  function render(props, node) {\n",
       "    var script = document.createElement(\"script\");\n",
       "    node.appendChild(script);\n",
       "  }\n",
       "\n",
       "  /**\n",
       "   * Handle when an output is cleared or removed\n",
       "   */\n",
       "  function handleClearOutput(event, handle) {\n",
       "    var cell = handle.cell;\n",
       "\n",
       "    var id = cell.output_area._bokeh_element_id;\n",
       "    var server_id = cell.output_area._bokeh_server_id;\n",
       "    // Clean up Bokeh references\n",
       "    if (id != null && id in Bokeh.index) {\n",
       "      Bokeh.index[id].model.document.clear();\n",
       "      delete Bokeh.index[id];\n",
       "    }\n",
       "\n",
       "    if (server_id !== undefined) {\n",
       "      // Clean up Bokeh references\n",
       "      var cmd = \"from bokeh.io.state import curstate; print(curstate().uuid_to_server['\" + server_id + \"'].get_sessions()[0].document.roots[0]._id)\";\n",
       "      cell.notebook.kernel.execute(cmd, {\n",
       "        iopub: {\n",
       "          output: function(msg) {\n",
       "            var id = msg.content.text.trim();\n",
       "            if (id in Bokeh.index) {\n",
       "              Bokeh.index[id].model.document.clear();\n",
       "              delete Bokeh.index[id];\n",
       "            }\n",
       "          }\n",
       "        }\n",
       "      });\n",
       "      // Destroy server and session\n",
       "      var cmd = \"import bokeh.io.notebook as ion; ion.destroy_server('\" + server_id + \"')\";\n",
       "      cell.notebook.kernel.execute(cmd);\n",
       "    }\n",
       "  }\n",
       "\n",
       "  /**\n",
       "   * Handle when a new output is added\n",
       "   */\n",
       "  function handleAddOutput(event, handle) {\n",
       "    var output_area = handle.output_area;\n",
       "    var output = handle.output;\n",
       "\n",
       "    // limit handleAddOutput to display_data with EXEC_MIME_TYPE content only\n",
       "    if ((output.output_type != \"display_data\") || (!output.data.hasOwnProperty(EXEC_MIME_TYPE))) {\n",
       "      return\n",
       "    }\n",
       "\n",
       "    var toinsert = output_area.element.find(\".\" + CLASS_NAME.split(' ')[0]);\n",
       "\n",
       "    if (output.metadata[EXEC_MIME_TYPE][\"id\"] !== undefined) {\n",
       "      toinsert[toinsert.length - 1].firstChild.textContent = output.data[JS_MIME_TYPE];\n",
       "      // store reference to embed id on output_area\n",
       "      output_area._bokeh_element_id = output.metadata[EXEC_MIME_TYPE][\"id\"];\n",
       "    }\n",
       "    if (output.metadata[EXEC_MIME_TYPE][\"server_id\"] !== undefined) {\n",
       "      var bk_div = document.createElement(\"div\");\n",
       "      bk_div.innerHTML = output.data[HTML_MIME_TYPE];\n",
       "      var script_attrs = bk_div.children[0].attributes;\n",
       "      for (var i = 0; i < script_attrs.length; i++) {\n",
       "        toinsert[toinsert.length - 1].firstChild.setAttribute(script_attrs[i].name, script_attrs[i].value);\n",
       "      }\n",
       "      // store reference to server id on output_area\n",
       "      output_area._bokeh_server_id = output.metadata[EXEC_MIME_TYPE][\"server_id\"];\n",
       "    }\n",
       "  }\n",
       "\n",
       "  function register_renderer(events, OutputArea) {\n",
       "\n",
       "    function append_mime(data, metadata, element) {\n",
       "      // create a DOM node to render to\n",
       "      var toinsert = this.create_output_subarea(\n",
       "        metadata,\n",
       "        CLASS_NAME,\n",
       "        EXEC_MIME_TYPE\n",
       "      );\n",
       "      this.keyboard_manager.register_events(toinsert);\n",
       "      // Render to node\n",
       "      var props = {data: data, metadata: metadata[EXEC_MIME_TYPE]};\n",
       "      render(props, toinsert[toinsert.length - 1]);\n",
       "      element.append(toinsert);\n",
       "      return toinsert\n",
       "    }\n",
       "\n",
       "    /* Handle when an output is cleared or removed */\n",
       "    events.on('clear_output.CodeCell', handleClearOutput);\n",
       "    events.on('delete.Cell', handleClearOutput);\n",
       "\n",
       "    /* Handle when a new output is added */\n",
       "    events.on('output_added.OutputArea', handleAddOutput);\n",
       "\n",
       "    /**\n",
       "     * Register the mime type and append_mime function with output_area\n",
       "     */\n",
       "    OutputArea.prototype.register_mime_type(EXEC_MIME_TYPE, append_mime, {\n",
       "      /* Is output safe? */\n",
       "      safe: true,\n",
       "      /* Index of renderer in `output_area.display_order` */\n",
       "      index: 0\n",
       "    });\n",
       "  }\n",
       "\n",
       "  // register the mime type if in Jupyter Notebook environment and previously unregistered\n",
       "  if (root.Jupyter !== undefined) {\n",
       "    var events = require('base/js/events');\n",
       "    var OutputArea = require('notebook/js/outputarea').OutputArea;\n",
       "\n",
       "    if (OutputArea.prototype.mime_types().indexOf(EXEC_MIME_TYPE) == -1) {\n",
       "      register_renderer(events, OutputArea);\n",
       "    }\n",
       "  }\n",
       "\n",
       "  \n",
       "  if (typeof (root._bokeh_timeout) === \"undefined\" || force === true) {\n",
       "    root._bokeh_timeout = Date.now() + 5000;\n",
       "    root._bokeh_failed_load = false;\n",
       "  }\n",
       "\n",
       "  var NB_LOAD_WARNING = {'data': {'text/html':\n",
       "     \"<div style='background-color: #fdd'>\\n\"+\n",
       "     \"<p>\\n\"+\n",
       "     \"BokehJS does not appear to have successfully loaded. If loading BokehJS from CDN, this \\n\"+\n",
       "     \"may be due to a slow or bad network connection. Possible fixes:\\n\"+\n",
       "     \"</p>\\n\"+\n",
       "     \"<ul>\\n\"+\n",
       "     \"<li>re-rerun `output_notebook()` to attempt to load from CDN again, or</li>\\n\"+\n",
       "     \"<li>use INLINE resources instead, as so:</li>\\n\"+\n",
       "     \"</ul>\\n\"+\n",
       "     \"<code>\\n\"+\n",
       "     \"from bokeh.resources import INLINE\\n\"+\n",
       "     \"output_notebook(resources=INLINE)\\n\"+\n",
       "     \"</code>\\n\"+\n",
       "     \"</div>\"}};\n",
       "\n",
       "  function display_loaded() {\n",
       "    var el = document.getElementById(\"1220\");\n",
       "    if (el != null) {\n",
       "      el.textContent = \"BokehJS is loading...\";\n",
       "    }\n",
       "    if (root.Bokeh !== undefined) {\n",
       "      if (el != null) {\n",
       "        el.textContent = \"BokehJS \" + root.Bokeh.version + \" successfully loaded.\";\n",
       "      }\n",
       "    } else if (Date.now() < root._bokeh_timeout) {\n",
       "      setTimeout(display_loaded, 100)\n",
       "    }\n",
       "  }\n",
       "\n",
       "\n",
       "  function run_callbacks() {\n",
       "    try {\n",
       "      root._bokeh_onload_callbacks.forEach(function(callback) { callback() });\n",
       "    }\n",
       "    finally {\n",
       "      delete root._bokeh_onload_callbacks\n",
       "    }\n",
       "    console.info(\"Bokeh: all callbacks have finished\");\n",
       "  }\n",
       "\n",
       "  function load_libs(js_urls, callback) {\n",
       "    root._bokeh_onload_callbacks.push(callback);\n",
       "    if (root._bokeh_is_loading > 0) {\n",
       "      console.log(\"Bokeh: BokehJS is being loaded, scheduling callback at\", now());\n",
       "      return null;\n",
       "    }\n",
       "    if (js_urls == null || js_urls.length === 0) {\n",
       "      run_callbacks();\n",
       "      return null;\n",
       "    }\n",
       "    console.log(\"Bokeh: BokehJS not loaded, scheduling load and callback at\", now());\n",
       "    root._bokeh_is_loading = js_urls.length;\n",
       "    for (var i = 0; i < js_urls.length; i++) {\n",
       "      var url = js_urls[i];\n",
       "      var s = document.createElement('script');\n",
       "      s.src = url;\n",
       "      s.async = false;\n",
       "      s.onreadystatechange = s.onload = function() {\n",
       "        root._bokeh_is_loading--;\n",
       "        if (root._bokeh_is_loading === 0) {\n",
       "          console.log(\"Bokeh: all BokehJS libraries loaded\");\n",
       "          run_callbacks()\n",
       "        }\n",
       "      };\n",
       "      s.onerror = function() {\n",
       "        console.warn(\"failed to load library \" + url);\n",
       "      };\n",
       "      console.log(\"Bokeh: injecting script tag for BokehJS library: \", url);\n",
       "      document.getElementsByTagName(\"head\")[0].appendChild(s);\n",
       "    }\n",
       "  };var element = document.getElementById(\"1220\");\n",
       "  if (element == null) {\n",
       "    console.log(\"Bokeh: ERROR: autoload.js configured with elementid '1220' but no matching script tag was found. \")\n",
       "    return false;\n",
       "  }\n",
       "\n",
       "  var js_urls = [\"https://cdn.pydata.org/bokeh/release/bokeh-1.0.4.min.js\", \"https://cdn.pydata.org/bokeh/release/bokeh-widgets-1.0.4.min.js\", \"https://cdn.pydata.org/bokeh/release/bokeh-tables-1.0.4.min.js\", \"https://cdn.pydata.org/bokeh/release/bokeh-gl-1.0.4.min.js\"];\n",
       "\n",
       "  var inline_js = [\n",
       "    function(Bokeh) {\n",
       "      Bokeh.set_log_level(\"info\");\n",
       "    },\n",
       "    \n",
       "    function(Bokeh) {\n",
       "      \n",
       "    },\n",
       "    function(Bokeh) {\n",
       "      console.log(\"Bokeh: injecting CSS: https://cdn.pydata.org/bokeh/release/bokeh-1.0.4.min.css\");\n",
       "      Bokeh.embed.inject_css(\"https://cdn.pydata.org/bokeh/release/bokeh-1.0.4.min.css\");\n",
       "      console.log(\"Bokeh: injecting CSS: https://cdn.pydata.org/bokeh/release/bokeh-widgets-1.0.4.min.css\");\n",
       "      Bokeh.embed.inject_css(\"https://cdn.pydata.org/bokeh/release/bokeh-widgets-1.0.4.min.css\");\n",
       "      console.log(\"Bokeh: injecting CSS: https://cdn.pydata.org/bokeh/release/bokeh-tables-1.0.4.min.css\");\n",
       "      Bokeh.embed.inject_css(\"https://cdn.pydata.org/bokeh/release/bokeh-tables-1.0.4.min.css\");\n",
       "    }\n",
       "  ];\n",
       "\n",
       "  function run_inline_js() {\n",
       "    \n",
       "    if ((root.Bokeh !== undefined) || (force === true)) {\n",
       "      for (var i = 0; i < inline_js.length; i++) {\n",
       "        inline_js[i].call(root, root.Bokeh);\n",
       "      }if (force === true) {\n",
       "        display_loaded();\n",
       "      }} else if (Date.now() < root._bokeh_timeout) {\n",
       "      setTimeout(run_inline_js, 100);\n",
       "    } else if (!root._bokeh_failed_load) {\n",
       "      console.log(\"Bokeh: BokehJS failed to load within specified timeout.\");\n",
       "      root._bokeh_failed_load = true;\n",
       "    } else if (force !== true) {\n",
       "      var cell = $(document.getElementById(\"1220\")).parents('.cell').data().cell;\n",
       "      cell.output_area.append_execute_result(NB_LOAD_WARNING)\n",
       "    }\n",
       "\n",
       "  }\n",
       "\n",
       "  if (root._bokeh_is_loading === 0) {\n",
       "    console.log(\"Bokeh: BokehJS loaded, going straight to plotting\");\n",
       "    run_inline_js();\n",
       "  } else {\n",
       "    load_libs(js_urls, function() {\n",
       "      console.log(\"Bokeh: BokehJS plotting callback run at\", now());\n",
       "      run_inline_js();\n",
       "    });\n",
       "  }\n",
       "}(window));"
      ],
      "application/vnd.bokehjs_load.v0+json": "\n(function(root) {\n  function now() {\n    return new Date();\n  }\n\n  var force = true;\n\n  if (typeof (root._bokeh_onload_callbacks) === \"undefined\" || force === true) {\n    root._bokeh_onload_callbacks = [];\n    root._bokeh_is_loading = undefined;\n  }\n\n  \n\n  \n  if (typeof (root._bokeh_timeout) === \"undefined\" || force === true) {\n    root._bokeh_timeout = Date.now() + 5000;\n    root._bokeh_failed_load = false;\n  }\n\n  var NB_LOAD_WARNING = {'data': {'text/html':\n     \"<div style='background-color: #fdd'>\\n\"+\n     \"<p>\\n\"+\n     \"BokehJS does not appear to have successfully loaded. If loading BokehJS from CDN, this \\n\"+\n     \"may be due to a slow or bad network connection. Possible fixes:\\n\"+\n     \"</p>\\n\"+\n     \"<ul>\\n\"+\n     \"<li>re-rerun `output_notebook()` to attempt to load from CDN again, or</li>\\n\"+\n     \"<li>use INLINE resources instead, as so:</li>\\n\"+\n     \"</ul>\\n\"+\n     \"<code>\\n\"+\n     \"from bokeh.resources import INLINE\\n\"+\n     \"output_notebook(resources=INLINE)\\n\"+\n     \"</code>\\n\"+\n     \"</div>\"}};\n\n  function display_loaded() {\n    var el = document.getElementById(\"1220\");\n    if (el != null) {\n      el.textContent = \"BokehJS is loading...\";\n    }\n    if (root.Bokeh !== undefined) {\n      if (el != null) {\n        el.textContent = \"BokehJS \" + root.Bokeh.version + \" successfully loaded.\";\n      }\n    } else if (Date.now() < root._bokeh_timeout) {\n      setTimeout(display_loaded, 100)\n    }\n  }\n\n\n  function run_callbacks() {\n    try {\n      root._bokeh_onload_callbacks.forEach(function(callback) { callback() });\n    }\n    finally {\n      delete root._bokeh_onload_callbacks\n    }\n    console.info(\"Bokeh: all callbacks have finished\");\n  }\n\n  function load_libs(js_urls, callback) {\n    root._bokeh_onload_callbacks.push(callback);\n    if (root._bokeh_is_loading > 0) {\n      console.log(\"Bokeh: BokehJS is being loaded, scheduling callback at\", now());\n      return null;\n    }\n    if (js_urls == null || js_urls.length === 0) {\n      run_callbacks();\n      return null;\n    }\n    console.log(\"Bokeh: BokehJS not loaded, scheduling load and callback at\", now());\n    root._bokeh_is_loading = js_urls.length;\n    for (var i = 0; i < js_urls.length; i++) {\n      var url = js_urls[i];\n      var s = document.createElement('script');\n      s.src = url;\n      s.async = false;\n      s.onreadystatechange = s.onload = function() {\n        root._bokeh_is_loading--;\n        if (root._bokeh_is_loading === 0) {\n          console.log(\"Bokeh: all BokehJS libraries loaded\");\n          run_callbacks()\n        }\n      };\n      s.onerror = function() {\n        console.warn(\"failed to load library \" + url);\n      };\n      console.log(\"Bokeh: injecting script tag for BokehJS library: \", url);\n      document.getElementsByTagName(\"head\")[0].appendChild(s);\n    }\n  };var element = document.getElementById(\"1220\");\n  if (element == null) {\n    console.log(\"Bokeh: ERROR: autoload.js configured with elementid '1220' but no matching script tag was found. \")\n    return false;\n  }\n\n  var js_urls = [\"https://cdn.pydata.org/bokeh/release/bokeh-1.0.4.min.js\", \"https://cdn.pydata.org/bokeh/release/bokeh-widgets-1.0.4.min.js\", \"https://cdn.pydata.org/bokeh/release/bokeh-tables-1.0.4.min.js\", \"https://cdn.pydata.org/bokeh/release/bokeh-gl-1.0.4.min.js\"];\n\n  var inline_js = [\n    function(Bokeh) {\n      Bokeh.set_log_level(\"info\");\n    },\n    \n    function(Bokeh) {\n      \n    },\n    function(Bokeh) {\n      console.log(\"Bokeh: injecting CSS: https://cdn.pydata.org/bokeh/release/bokeh-1.0.4.min.css\");\n      Bokeh.embed.inject_css(\"https://cdn.pydata.org/bokeh/release/bokeh-1.0.4.min.css\");\n      console.log(\"Bokeh: injecting CSS: https://cdn.pydata.org/bokeh/release/bokeh-widgets-1.0.4.min.css\");\n      Bokeh.embed.inject_css(\"https://cdn.pydata.org/bokeh/release/bokeh-widgets-1.0.4.min.css\");\n      console.log(\"Bokeh: injecting CSS: https://cdn.pydata.org/bokeh/release/bokeh-tables-1.0.4.min.css\");\n      Bokeh.embed.inject_css(\"https://cdn.pydata.org/bokeh/release/bokeh-tables-1.0.4.min.css\");\n    }\n  ];\n\n  function run_inline_js() {\n    \n    if ((root.Bokeh !== undefined) || (force === true)) {\n      for (var i = 0; i < inline_js.length; i++) {\n        inline_js[i].call(root, root.Bokeh);\n      }if (force === true) {\n        display_loaded();\n      }} else if (Date.now() < root._bokeh_timeout) {\n      setTimeout(run_inline_js, 100);\n    } else if (!root._bokeh_failed_load) {\n      console.log(\"Bokeh: BokehJS failed to load within specified timeout.\");\n      root._bokeh_failed_load = true;\n    } else if (force !== true) {\n      var cell = $(document.getElementById(\"1220\")).parents('.cell').data().cell;\n      cell.output_area.append_execute_result(NB_LOAD_WARNING)\n    }\n\n  }\n\n  if (root._bokeh_is_loading === 0) {\n    console.log(\"Bokeh: BokehJS loaded, going straight to plotting\");\n    run_inline_js();\n  } else {\n    load_libs(js_urls, function() {\n      console.log(\"Bokeh: BokehJS plotting callback run at\", now());\n      run_inline_js();\n    });\n  }\n}(window));"
     },
     "metadata": {},
     "output_type": "display_data"
    },
    {
     "data": {
      "text/html": [
       "\n",
       "\n",
       "\n",
       "\n",
       "\n",
       "\n",
       "  <div class=\"bk-root\" id=\"5b3a401f-df58-4b0e-9a5a-aca18684781e\" data-root-id=\"1221\"></div>\n"
      ]
     },
     "metadata": {},
     "output_type": "display_data"
    },
    {
     "data": {
      "application/javascript": [
       "(function(root) {\n",
       "  function embed_document(root) {\n",
       "    \n",
       "  var docs_json = {\"467704b9-8237-40ee-9634-2db396c7c886\":{\"roots\":{\"references\":[{\"attributes\":{\"below\":[{\"id\":\"1230\",\"type\":\"LinearAxis\"}],\"left\":[{\"id\":\"1235\",\"type\":\"LinearAxis\"}],\"plot_height\":400,\"plot_width\":400,\"renderers\":[{\"id\":\"1230\",\"type\":\"LinearAxis\"},{\"id\":\"1234\",\"type\":\"Grid\"},{\"id\":\"1235\",\"type\":\"LinearAxis\"},{\"id\":\"1239\",\"type\":\"Grid\"},{\"id\":\"1248\",\"type\":\"BoxAnnotation\"},{\"id\":\"1258\",\"type\":\"GlyphRenderer\"}],\"title\":{\"id\":\"1271\",\"type\":\"Title\"},\"toolbar\":{\"id\":\"1246\",\"type\":\"Toolbar\"},\"x_range\":{\"id\":\"1222\",\"type\":\"DataRange1d\"},\"x_scale\":{\"id\":\"1226\",\"type\":\"LinearScale\"},\"y_range\":{\"id\":\"1224\",\"type\":\"DataRange1d\"},\"y_scale\":{\"id\":\"1228\",\"type\":\"LinearScale\"}},\"id\":\"1221\",\"subtype\":\"Figure\",\"type\":\"Plot\"},{\"attributes\":{\"data_source\":{\"id\":\"1255\",\"type\":\"ColumnDataSource\"},\"glyph\":{\"id\":\"1256\",\"type\":\"Line\"},\"hover_glyph\":null,\"muted_glyph\":null,\"nonselection_glyph\":{\"id\":\"1257\",\"type\":\"Line\"},\"selection_glyph\":null,\"view\":{\"id\":\"1259\",\"type\":\"CDSView\"}},\"id\":\"1258\",\"type\":\"GlyphRenderer\"},{\"attributes\":{\"callback\":null},\"id\":\"1222\",\"type\":\"DataRange1d\"},{\"attributes\":{\"line_alpha\":0.1,\"line_color\":\"#1f77b4\",\"x\":{\"field\":\"x\"},\"y\":{\"field\":\"y\"}},\"id\":\"1257\",\"type\":\"Line\"},{\"attributes\":{\"overlay\":{\"id\":\"1248\",\"type\":\"BoxAnnotation\"}},\"id\":\"1242\",\"type\":\"BoxZoomTool\"},{\"attributes\":{},\"id\":\"1240\",\"type\":\"PanTool\"},{\"attributes\":{},\"id\":\"1231\",\"type\":\"BasicTicker\"},{\"attributes\":{},\"id\":\"1244\",\"type\":\"ResetTool\"},{\"attributes\":{\"plot\":{\"id\":\"1221\",\"subtype\":\"Figure\",\"type\":\"Plot\"},\"ticker\":{\"id\":\"1231\",\"type\":\"BasicTicker\"}},\"id\":\"1234\",\"type\":\"Grid\"},{\"attributes\":{\"dimension\":1,\"plot\":{\"id\":\"1221\",\"subtype\":\"Figure\",\"type\":\"Plot\"},\"ticker\":{\"id\":\"1236\",\"type\":\"BasicTicker\"}},\"id\":\"1239\",\"type\":\"Grid\"},{\"attributes\":{},\"id\":\"1243\",\"type\":\"SaveTool\"},{\"attributes\":{\"formatter\":{\"id\":\"1273\",\"type\":\"BasicTickFormatter\"},\"plot\":{\"id\":\"1221\",\"subtype\":\"Figure\",\"type\":\"Plot\"},\"ticker\":{\"id\":\"1231\",\"type\":\"BasicTicker\"}},\"id\":\"1230\",\"type\":\"LinearAxis\"},{\"attributes\":{},\"id\":\"1226\",\"type\":\"LinearScale\"},{\"attributes\":{},\"id\":\"1278\",\"type\":\"UnionRenderers\"},{\"attributes\":{},\"id\":\"1236\",\"type\":\"BasicTicker\"},{\"attributes\":{},\"id\":\"1228\",\"type\":\"LinearScale\"},{\"attributes\":{\"line_color\":\"#1f77b4\",\"x\":{\"field\":\"x\"},\"y\":{\"field\":\"y\"}},\"id\":\"1256\",\"type\":\"Line\"},{\"attributes\":{},\"id\":\"1277\",\"type\":\"Selection\"},{\"attributes\":{\"callback\":null,\"data\":{\"x\":{\"__ndarray__\":\"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\",\"dtype\":\"float64\",\"shape\":[200]},\"y\":{\"__ndarray__\":\"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\",\"dtype\":\"float64\",\"shape\":[200]}},\"selected\":{\"id\":\"1277\",\"type\":\"Selection\"},\"selection_policy\":{\"id\":\"1278\",\"type\":\"UnionRenderers\"}},\"id\":\"1255\",\"type\":\"ColumnDataSource\"},{\"attributes\":{\"plot\":null,\"text\":\"\",\"text_color\":{\"value\":\"black\"},\"text_font_size\":{\"value\":\"12pt\"}},\"id\":\"1271\",\"type\":\"Title\"},{\"attributes\":{},\"id\":\"1275\",\"type\":\"BasicTickFormatter\"},{\"attributes\":{},\"id\":\"1273\",\"type\":\"BasicTickFormatter\"},{\"attributes\":{\"callback\":null},\"id\":\"1224\",\"type\":\"DataRange1d\"},{\"attributes\":{},\"id\":\"1241\",\"type\":\"WheelZoomTool\"},{\"attributes\":{\"callback\":null,\"tooltips\":[[\"x\",\"@x\"],[\"y\",\"@y\"]]},\"id\":\"1260\",\"type\":\"HoverTool\"},{\"attributes\":{\"source\":{\"id\":\"1255\",\"type\":\"ColumnDataSource\"}},\"id\":\"1259\",\"type\":\"CDSView\"},{\"attributes\":{\"bottom_units\":\"screen\",\"fill_alpha\":{\"value\":0.5},\"fill_color\":{\"value\":\"lightgrey\"},\"left_units\":\"screen\",\"level\":\"overlay\",\"line_alpha\":{\"value\":1.0},\"line_color\":{\"value\":\"black\"},\"line_dash\":[4,4],\"line_width\":{\"value\":2},\"plot\":null,\"render_mode\":\"css\",\"right_units\":\"screen\",\"top_units\":\"screen\"},\"id\":\"1248\",\"type\":\"BoxAnnotation\"},{\"attributes\":{\"formatter\":{\"id\":\"1275\",\"type\":\"BasicTickFormatter\"},\"plot\":{\"id\":\"1221\",\"subtype\":\"Figure\",\"type\":\"Plot\"},\"ticker\":{\"id\":\"1236\",\"type\":\"BasicTicker\"}},\"id\":\"1235\",\"type\":\"LinearAxis\"},{\"attributes\":{\"active_drag\":\"auto\",\"active_inspect\":\"auto\",\"active_multi\":null,\"active_scroll\":\"auto\",\"active_tap\":\"auto\",\"tools\":[{\"id\":\"1240\",\"type\":\"PanTool\"},{\"id\":\"1241\",\"type\":\"WheelZoomTool\"},{\"id\":\"1242\",\"type\":\"BoxZoomTool\"},{\"id\":\"1243\",\"type\":\"SaveTool\"},{\"id\":\"1244\",\"type\":\"ResetTool\"},{\"id\":\"1245\",\"type\":\"HelpTool\"},{\"id\":\"1260\",\"type\":\"HoverTool\"}]},\"id\":\"1246\",\"type\":\"Toolbar\"},{\"attributes\":{},\"id\":\"1245\",\"type\":\"HelpTool\"}],\"root_ids\":[\"1221\"]},\"title\":\"Bokeh Application\",\"version\":\"1.0.4\"}};\n",
       "  var render_items = [{\"docid\":\"467704b9-8237-40ee-9634-2db396c7c886\",\"roots\":{\"1221\":\"5b3a401f-df58-4b0e-9a5a-aca18684781e\"}}];\n",
       "  root.Bokeh.embed.embed_items_notebook(docs_json, render_items);\n",
       "\n",
       "  }\n",
       "  if (root.Bokeh !== undefined) {\n",
       "    embed_document(root);\n",
       "  } else {\n",
       "    var attempts = 0;\n",
       "    var timer = setInterval(function(root) {\n",
       "      if (root.Bokeh !== undefined) {\n",
       "        embed_document(root);\n",
       "        clearInterval(timer);\n",
       "      }\n",
       "      attempts++;\n",
       "      if (attempts > 100) {\n",
       "        console.log(\"Bokeh: ERROR: Unable to run BokehJS code because BokehJS library is missing\");\n",
       "        clearInterval(timer);\n",
       "      }\n",
       "    }, 10, root)\n",
       "  }\n",
       "})(window);"
      ],
      "application/vnd.bokehjs_exec.v0+json": ""
     },
     "metadata": {
      "application/vnd.bokehjs_exec.v0+json": {
       "id": "1221"
      }
     },
     "output_type": "display_data"
    }
   ],
   "source": [
    "# https://bokeh.pydata.org/\n",
    "from bokeh.io import output_notebook, show\n",
    "from bokeh.plotting import figure\n",
    "from bokeh.models import HoverTool\n",
    "output_notebook()\n",
    "p = figure(plot_width=400, plot_height=400)\n",
    "p.line(t, s)\n",
    "hover = HoverTool(tooltips =[('x','@x'),('y','@y')])\n",
    "p.add_tools(hover)\n",
    "show(p)"
   ]
  },
  {
   "cell_type": "code",
   "execution_count": 19,
   "metadata": {},
   "outputs": [
    {
     "data": {
      "application/javascript": [
       "\n",
       "// Ugly hack - see HoloViews #2574 for more information\n",
       "if (!(document.getElementById('1338')) && !(document.getElementById('_anim_imgNone'))) {\n",
       "  console.log(\"Creating DOM nodes dynamically for assumed nbconvert export. To generate clean HTML output set HV_DOC_HTML as an environment variable.\")\n",
       "  var htmlObject = document.createElement('div');\n",
       "  htmlObject.innerHTML = `<div id='1338' style='display: table; margin: 0 auto;'>\n",
       "\n",
       "\n",
       "\n",
       "\n",
       "\n",
       "  <div class=\"bk-root\" id=\"8f60c555-6b98-414d-88d9-bdf1c1667361\" data-root-id=\"1338\"></div>\n",
       "</div>`;\n",
       "  var scriptTags = document.getElementsByTagName('script');\n",
       "  var parentTag = scriptTags[scriptTags.length-1].parentNode;\n",
       "  if (parentTag.attributes.length && (parentTag.attributes[0].name == 'data-shell-mode')) {\n",
       "    alert('Displaying PyViz objects in JupyterLab requires the jupyterlab_pyviz extension to be installed, install it with:\\n\\n\\tjupyter labextension install @pyviz/jupyterlab_pyviz');\n",
       "  } else {\n",
       "    parentTag.append(htmlObject)\n",
       "  }\n",
       "}\n",
       "(function(root) {\n",
       "  function embed_document(root) {\n",
       "    \n",
       "  var docs_json = {\"9fadd0f0-4b9f-4a6b-a53d-babcea779c6f\":{\"roots\":{\"references\":[{\"attributes\":{\"below\":[{\"id\":\"1346\",\"type\":\"LinearAxis\"}],\"left\":[{\"id\":\"1351\",\"type\":\"LinearAxis\"}],\"min_border_bottom\":10,\"min_border_left\":10,\"min_border_right\":10,\"min_border_top\":10,\"plot_height\":300,\"plot_width\":700,\"renderers\":[{\"id\":\"1346\",\"type\":\"LinearAxis\"},{\"id\":\"1350\",\"type\":\"Grid\"},{\"id\":\"1351\",\"type\":\"LinearAxis\"},{\"id\":\"1355\",\"type\":\"Grid\"},{\"id\":\"1365\",\"type\":\"BoxAnnotation\"},{\"id\":\"1376\",\"type\":\"GlyphRenderer\"}],\"title\":{\"id\":\"1337\",\"type\":\"Title\"},\"toolbar\":{\"id\":\"1361\",\"type\":\"Toolbar\"},\"x_range\":{\"id\":\"1334\",\"type\":\"Range1d\"},\"x_scale\":{\"id\":\"1342\",\"type\":\"LinearScale\"},\"y_range\":{\"id\":\"1335\",\"type\":\"Range1d\"},\"y_scale\":{\"id\":\"1344\",\"type\":\"LinearScale\"}},\"id\":\"1338\",\"subtype\":\"Figure\",\"type\":\"Plot\"},{\"attributes\":{},\"id\":\"1356\",\"type\":\"SaveTool\"},{\"attributes\":{},\"id\":\"1347\",\"type\":\"BasicTicker\"},{\"attributes\":{},\"id\":\"1342\",\"type\":\"LinearScale\"},{\"attributes\":{},\"id\":\"1360\",\"type\":\"ResetTool\"},{\"attributes\":{\"bottom_units\":\"screen\",\"fill_alpha\":{\"value\":0.5},\"fill_color\":{\"value\":\"lightgrey\"},\"left_units\":\"screen\",\"level\":\"overlay\",\"line_alpha\":{\"value\":1.0},\"line_color\":{\"value\":\"black\"},\"line_dash\":[4,4],\"line_width\":{\"value\":2},\"plot\":null,\"render_mode\":\"css\",\"right_units\":\"screen\",\"top_units\":\"screen\"},\"id\":\"1365\",\"type\":\"BoxAnnotation\"},{\"attributes\":{\"data_source\":{\"id\":\"1370\",\"type\":\"ColumnDataSource\"},\"glyph\":{\"id\":\"1373\",\"type\":\"Line\"},\"hover_glyph\":null,\"muted_glyph\":{\"id\":\"1375\",\"type\":\"Line\"},\"nonselection_glyph\":{\"id\":\"1374\",\"type\":\"Line\"},\"selection_glyph\":null,\"view\":{\"id\":\"1377\",\"type\":\"CDSView\"}},\"id\":\"1376\",\"type\":\"GlyphRenderer\"},{\"attributes\":{\"overlay\":{\"id\":\"1365\",\"type\":\"BoxAnnotation\"}},\"id\":\"1359\",\"type\":\"BoxZoomTool\"},{\"attributes\":{},\"id\":\"1371\",\"type\":\"Selection\"},{\"attributes\":{\"dimension\":1,\"plot\":{\"id\":\"1338\",\"subtype\":\"Figure\",\"type\":\"Plot\"},\"ticker\":{\"id\":\"1352\",\"type\":\"BasicTicker\"}},\"id\":\"1355\",\"type\":\"Grid\"},{\"attributes\":{\"axis_label\":\"\",\"bounds\":\"auto\",\"formatter\":{\"id\":\"1378\",\"type\":\"BasicTickFormatter\"},\"major_label_orientation\":\"horizontal\",\"plot\":{\"id\":\"1338\",\"subtype\":\"Figure\",\"type\":\"Plot\"},\"ticker\":{\"id\":\"1347\",\"type\":\"BasicTicker\"}},\"id\":\"1346\",\"type\":\"LinearAxis\"},{\"attributes\":{\"plot\":null,\"text\":\"\",\"text_color\":{\"value\":\"black\"},\"text_font_size\":{\"value\":\"12pt\"}},\"id\":\"1337\",\"type\":\"Title\"},{\"attributes\":{\"source\":{\"id\":\"1370\",\"type\":\"ColumnDataSource\"}},\"id\":\"1377\",\"type\":\"CDSView\"},{\"attributes\":{},\"id\":\"1380\",\"type\":\"BasicTickFormatter\"},{\"attributes\":{},\"id\":\"1390\",\"type\":\"UnionRenderers\"},{\"attributes\":{\"callback\":null,\"data\":{\"0\":{\"__ndarray__\":\"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\",\"dtype\":\"float64\",\"shape\":[200]},\"A_0\":{\"__ndarray__\":\"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\",\"dtype\":\"float64\",\"shape\":[200]},\"index\":{\"__ndarray__\":\"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\",\"dtype\":\"float64\",\"shape\":[200]}},\"selected\":{\"id\":\"1371\",\"type\":\"Selection\"},\"selection_policy\":{\"id\":\"1390\",\"type\":\"UnionRenderers\"}},\"id\":\"1370\",\"type\":\"ColumnDataSource\"},{\"attributes\":{\"line_color\":\"#1f77b4\",\"line_width\":2,\"x\":{\"field\":\"index\"},\"y\":{\"field\":\"0\"}},\"id\":\"1373\",\"type\":\"Line\"},{\"attributes\":{\"axis_label\":\"0\",\"bounds\":\"auto\",\"formatter\":{\"id\":\"1380\",\"type\":\"BasicTickFormatter\"},\"major_label_orientation\":\"horizontal\",\"plot\":{\"id\":\"1338\",\"subtype\":\"Figure\",\"type\":\"Plot\"},\"ticker\":{\"id\":\"1352\",\"type\":\"BasicTicker\"}},\"id\":\"1351\",\"type\":\"LinearAxis\"},{\"attributes\":{\"callback\":null,\"end\":2.0,\"reset_end\":2.0,\"reset_start\":0.0,\"tags\":[[[\"0\",\"0\",null]]]},\"id\":\"1335\",\"type\":\"Range1d\"},{\"attributes\":{\"callback\":null,\"renderers\":[{\"id\":\"1376\",\"type\":\"GlyphRenderer\"}],\"tooltips\":[[\"index\",\"@{index}\"],[\"0\",\"@{A_0}\"]]},\"id\":\"1336\",\"type\":\"HoverTool\"},{\"attributes\":{},\"id\":\"1378\",\"type\":\"BasicTickFormatter\"},{\"attributes\":{\"plot\":{\"id\":\"1338\",\"subtype\":\"Figure\",\"type\":\"Plot\"},\"ticker\":{\"id\":\"1347\",\"type\":\"BasicTicker\"}},\"id\":\"1350\",\"type\":\"Grid\"},{\"attributes\":{},\"id\":\"1352\",\"type\":\"BasicTicker\"},{\"attributes\":{\"active_drag\":\"auto\",\"active_inspect\":\"auto\",\"active_multi\":null,\"active_scroll\":\"auto\",\"active_tap\":\"auto\",\"tools\":[{\"id\":\"1336\",\"type\":\"HoverTool\"},{\"id\":\"1356\",\"type\":\"SaveTool\"},{\"id\":\"1357\",\"type\":\"PanTool\"},{\"id\":\"1358\",\"type\":\"WheelZoomTool\"},{\"id\":\"1359\",\"type\":\"BoxZoomTool\"},{\"id\":\"1360\",\"type\":\"ResetTool\"}]},\"id\":\"1361\",\"type\":\"Toolbar\"},{\"attributes\":{\"callback\":null,\"end\":1.99,\"reset_end\":1.99,\"reset_start\":0.0,\"tags\":[[[\"index\",\"index\",null]]]},\"id\":\"1334\",\"type\":\"Range1d\"},{\"attributes\":{\"line_alpha\":0.2,\"line_color\":\"#1f77b4\",\"line_width\":2,\"x\":{\"field\":\"index\"},\"y\":{\"field\":\"0\"}},\"id\":\"1375\",\"type\":\"Line\"},{\"attributes\":{},\"id\":\"1357\",\"type\":\"PanTool\"},{\"attributes\":{},\"id\":\"1344\",\"type\":\"LinearScale\"},{\"attributes\":{\"line_alpha\":0.1,\"line_color\":\"#1f77b4\",\"line_width\":2,\"x\":{\"field\":\"index\"},\"y\":{\"field\":\"0\"}},\"id\":\"1374\",\"type\":\"Line\"},{\"attributes\":{},\"id\":\"1358\",\"type\":\"WheelZoomTool\"}],\"root_ids\":[\"1338\"]},\"title\":\"Bokeh Application\",\"version\":\"1.0.4\"}};\n",
       "  var render_items = [{\"docid\":\"9fadd0f0-4b9f-4a6b-a53d-babcea779c6f\",\"roots\":{\"1338\":\"8f60c555-6b98-414d-88d9-bdf1c1667361\"}}];\n",
       "  root.Bokeh.embed.embed_items_notebook(docs_json, render_items);\n",
       "\n",
       "  }\n",
       "  if (root.Bokeh !== undefined) {\n",
       "    embed_document(root);\n",
       "  } else {\n",
       "    var attempts = 0;\n",
       "    var timer = setInterval(function(root) {\n",
       "      if (root.Bokeh !== undefined) {\n",
       "        embed_document(root);\n",
       "        clearInterval(timer);\n",
       "      }\n",
       "      attempts++;\n",
       "      if (attempts > 100) {\n",
       "        console.log(\"Bokeh: ERROR: Unable to run BokehJS code because BokehJS library is missing\");\n",
       "        clearInterval(timer);\n",
       "      }\n",
       "    }, 10, root)\n",
       "  }\n",
       "})(window);"
      ],
      "application/vnd.holoviews_exec.v0+json": "",
      "text/html": [
       "<div id='1338' style='display: table; margin: 0 auto;'>\n",
       "\n",
       "\n",
       "\n",
       "\n",
       "\n",
       "  <div class=\"bk-root\" id=\"8f60c555-6b98-414d-88d9-bdf1c1667361\" data-root-id=\"1338\"></div>\n",
       "</div>"
      ],
      "text/plain": [
       ":Curve   [index]   (0)"
      ]
     },
     "execution_count": 19,
     "metadata": {
      "application/vnd.holoviews_exec.v0+json": {
       "id": "1338"
      }
     },
     "output_type": "execute_result"
    }
   ],
   "source": [
    "# https://hvplot.pyviz.org/\n",
    "import hvplot as hv\n",
    "import hvplot.pandas\n",
    "df = pd.DataFrame(s, index=t)\n",
    "df.hvplot(grid=True)"
   ]
  },
  {
   "cell_type": "code",
   "execution_count": 5,
   "metadata": {},
   "outputs": [
    {
     "data": {
      "application/vnd.jupyter.widget-view+json": {
       "model_id": "0163737f3a9c477cb61e2ed5cd348f38",
       "version_major": 2,
       "version_minor": 0
      }
     },
     "metadata": {},
     "output_type": "display_data"
    }
   ],
   "source": [
    "# https://beakerx.com\n",
    "import beakerx\n",
    "\n",
    "bkp = beakerx.Plot()\n",
    "bkp.add(beakerx.Line(x=t, y=s))"
   ]
  },
  {
   "cell_type": "code",
   "execution_count": 26,
   "metadata": {},
   "outputs": [
    {
     "data": {
      "application/vnd.jupyter.widget-view+json": {
       "model_id": "cf6a75ba400e4cf08a434014203c4070",
       "version_major": 2,
       "version_minor": 0
      },
      "text/plain": [
       "Figure(axes=[Axis(scale=LinearScale()), Axis(orientation='vertical', scale=LinearScale())], fig_margin={'top':…"
      ]
     },
     "metadata": {},
     "output_type": "display_data"
    }
   ],
   "source": [
    "# https://github.com/bloomberg/bqplot\n",
    "import bqplot\n",
    "x_sc = bqplot.LinearScale()\n",
    "y_sc = bqplot.LinearScale()\n",
    "def_tt = bqplot.Tooltip(fields=['x', 'y'], formats=['.2f', '.2f'])\n",
    "line_chart = bqplot.Lines(x=t, y=s, scales= {'x': x_sc, 'y': y_sc}, tooltip=def_tt)\n",
    "ax_x = bqplot.Axis(scale=x_sc)\n",
    "ax_y = bqplot.Axis(scale=y_sc, orientation='vertical')\n",
    "panzoom = bqplot.PanZoom(scales={'x': [x_sc], 'y': [y_sc]})\n",
    "bqplot.Figure(marks=[line_chart], axes=[ax_x, ax_y], interaction=panzoom)"
   ]
  },
  {
   "cell_type": "code",
   "execution_count": 27,
   "metadata": {},
   "outputs": [
    {
     "data": {
      "application/vnd.vegalite.v2+json": {
       "$schema": "https://vega.github.io/schema/vega-lite/v2.6.0.json",
       "config": {
        "view": {
         "height": 300,
         "width": 400
        }
       },
       "data": {
        "name": "data-87b6d5d7a3e92782e92be6a7c606fcdd"
       },
       "datasets": {
        "data-87b6d5d7a3e92782e92be6a7c606fcdd": [
         {
          "sin": 1,
          "t": 0
         },
         {
          "sin": 1.0627905195293135,
          "t": 0.01
         },
         {
          "sin": 1.1253332335643043,
          "t": 0.02
         },
         {
          "sin": 1.1873813145857246,
          "t": 0.03
         },
         {
          "sin": 1.2486898871648549,
          "t": 0.04
         },
         {
          "sin": 1.3090169943749475,
          "t": 0.05
         },
         {
          "sin": 1.368124552684678,
          "t": 0.06
         },
         {
          "sin": 1.4257792915650727,
          "t": 0.07
         },
         {
          "sin": 1.4817536741017152,
          "t": 0.08
         },
         {
          "sin": 1.5358267949789965,
          "t": 0.09
         },
         {
          "sin": 1.5877852522924731,
          "t": 0.1
         },
         {
          "sin": 1.6374239897486897,
          "t": 0.11
         },
         {
          "sin": 1.6845471059286887,
          "t": 0.12
         },
         {
          "sin": 1.7289686274214116,
          "t": 0.13
         },
         {
          "sin": 1.7705132427757893,
          "t": 0.14
         },
         {
          "sin": 1.8090169943749475,
          "t": 0.15
         },
         {
          "sin": 1.844327925502015,
          "t": 0.16
         },
         {
          "sin": 1.8763066800438637,
          "t": 0.17
         },
         {
          "sin": 1.9048270524660196,
          "t": 0.18
         },
         {
          "sin": 1.9297764858882513,
          "t": 0.19
         },
         {
          "sin": 1.9510565162951536,
          "t": 0.2
         },
         {
          "sin": 1.968583161128631,
          "t": 0.21
         },
         {
          "sin": 1.9822872507286886,
          "t": 0.22
         },
         {
          "sin": 1.992114701314478,
          "t": 0.23
         },
         {
          "sin": 1.9980267284282716,
          "t": 0.24
         },
         {
          "sin": 2,
          "t": 0.25
         },
         {
          "sin": 1.9980267284282716,
          "t": 0.26
         },
         {
          "sin": 1.9921147013144778,
          "t": 0.27
         },
         {
          "sin": 1.9822872507286886,
          "t": 0.28
         },
         {
          "sin": 1.968583161128631,
          "t": 0.29
         },
         {
          "sin": 1.9510565162951536,
          "t": 0.3
         },
         {
          "sin": 1.9297764858882513,
          "t": 0.31
         },
         {
          "sin": 1.9048270524660196,
          "t": 0.32
         },
         {
          "sin": 1.8763066800438635,
          "t": 0.33
         },
         {
          "sin": 1.8443279255020149,
          "t": 0.34
         },
         {
          "sin": 1.8090169943749475,
          "t": 0.35000000000000003
         },
         {
          "sin": 1.7705132427757893,
          "t": 0.36
         },
         {
          "sin": 1.7289686274214116,
          "t": 0.37
         },
         {
          "sin": 1.6845471059286887,
          "t": 0.38
         },
         {
          "sin": 1.6374239897486897,
          "t": 0.39
         },
         {
          "sin": 1.5877852522924734,
          "t": 0.4
         },
         {
          "sin": 1.5358267949789965,
          "t": 0.41000000000000003
         },
         {
          "sin": 1.4817536741017157,
          "t": 0.42
         },
         {
          "sin": 1.4257792915650729,
          "t": 0.43
         },
         {
          "sin": 1.3681245526846781,
          "t": 0.44
         },
         {
          "sin": 1.3090169943749475,
          "t": 0.45
         },
         {
          "sin": 1.2486898871648549,
          "t": 0.46
         },
         {
          "sin": 1.1873813145857246,
          "t": 0.47000000000000003
         },
         {
          "sin": 1.1253332335643045,
          "t": 0.48
         },
         {
          "sin": 1.0627905195293135,
          "t": 0.49
         },
         {
          "sin": 1.0000000000000002,
          "t": 0.5
         },
         {
          "sin": 0.9372094804706866,
          "t": 0.51
         },
         {
          "sin": 0.8746667664356957,
          "t": 0.52
         },
         {
          "sin": 0.8126186854142752,
          "t": 0.53
         },
         {
          "sin": 0.7513101128351449,
          "t": 0.54
         },
         {
          "sin": 0.6909830056250523,
          "t": 0.55
         },
         {
          "sin": 0.6318754473153216,
          "t": 0.56
         },
         {
          "sin": 0.5742207084349273,
          "t": 0.5700000000000001
         },
         {
          "sin": 0.518246325898285,
          "t": 0.58
         },
         {
          "sin": 0.46417320502100357,
          "t": 0.59
         },
         {
          "sin": 0.412214747707527,
          "t": 0.6
         },
         {
          "sin": 0.36257601025131037,
          "t": 0.61
         },
         {
          "sin": 0.3154528940713113,
          "t": 0.62
         },
         {
          "sin": 0.27103137257858867,
          "t": 0.63
         },
         {
          "sin": 0.22948675722421064,
          "t": 0.64
         },
         {
          "sin": 0.19098300562505266,
          "t": 0.65
         },
         {
          "sin": 0.1556720744979847,
          "t": 0.66
         },
         {
          "sin": 0.12369331995613642,
          "t": 0.67
         },
         {
          "sin": 0.0951729475339802,
          "t": 0.68
         },
         {
          "sin": 0.07022351411174854,
          "t": 0.6900000000000001
         },
         {
          "sin": 0.04894348370484647,
          "t": 0.7000000000000001
         },
         {
          "sin": 0.031416838871369035,
          "t": 0.71
         },
         {
          "sin": 0.01771274927131128,
          "t": 0.72
         },
         {
          "sin": 0.007885298685522235,
          "t": 0.73
         },
         {
          "sin": 0.001973271571728441,
          "t": 0.74
         },
         {
          "sin": 0,
          "t": 0.75
         },
         {
          "sin": 0.001973271571728441,
          "t": 0.76
         },
         {
          "sin": 0.007885298685522124,
          "t": 0.77
         },
         {
          "sin": 0.01771274927131128,
          "t": 0.78
         },
         {
          "sin": 0.031416838871368924,
          "t": 0.79
         },
         {
          "sin": 0.04894348370484636,
          "t": 0.8
         },
         {
          "sin": 0.07022351411174876,
          "t": 0.81
         },
         {
          "sin": 0.09517294753398042,
          "t": 0.8200000000000001
         },
         {
          "sin": 0.12369331995613664,
          "t": 0.8300000000000001
         },
         {
          "sin": 0.15567207449798448,
          "t": 0.84
         },
         {
          "sin": 0.19098300562505244,
          "t": 0.85
         },
         {
          "sin": 0.2294867572242104,
          "t": 0.86
         },
         {
          "sin": 0.27103137257858845,
          "t": 0.87
         },
         {
          "sin": 0.31545289407131105,
          "t": 0.88
         },
         {
          "sin": 0.36257601025131037,
          "t": 0.89
         },
         {
          "sin": 0.41221474770752675,
          "t": 0.9
         },
         {
          "sin": 0.4641732050210037,
          "t": 0.91
         },
         {
          "sin": 0.5182463258982847,
          "t": 0.92
         },
         {
          "sin": 0.5742207084349278,
          "t": 0.93
         },
         {
          "sin": 0.6318754473153222,
          "t": 0.9400000000000001
         },
         {
          "sin": 0.6909830056250523,
          "t": 0.9500000000000001
         },
         {
          "sin": 0.7513101128351447,
          "t": 0.96
         },
         {
          "sin": 0.8126186854142753,
          "t": 0.97
         },
         {
          "sin": 0.8746667664356953,
          "t": 0.98
         },
         {
          "sin": 0.9372094804706868,
          "t": 0.99
         },
         {
          "sin": 0.9999999999999998,
          "t": 1
         },
         {
          "sin": 1.0627905195293128,
          "t": 1.01
         },
         {
          "sin": 1.1253332335643043,
          "t": 1.02
         },
         {
          "sin": 1.1873813145857242,
          "t": 1.03
         },
         {
          "sin": 1.2486898871648549,
          "t": 1.04
         },
         {
          "sin": 1.3090169943749472,
          "t": 1.05
         },
         {
          "sin": 1.3681245526846784,
          "t": 1.06
         },
         {
          "sin": 1.4257792915650727,
          "t": 1.07
         },
         {
          "sin": 1.4817536741017157,
          "t": 1.08
         },
         {
          "sin": 1.5358267949789965,
          "t": 1.09
         },
         {
          "sin": 1.5877852522924738,
          "t": 1.1
         },
         {
          "sin": 1.63742398974869,
          "t": 1.11
         },
         {
          "sin": 1.6845471059286892,
          "t": 1.12
         },
         {
          "sin": 1.7289686274214118,
          "t": 1.1300000000000001
         },
         {
          "sin": 1.7705132427757893,
          "t": 1.1400000000000001
         },
         {
          "sin": 1.809016994374948,
          "t": 1.1500000000000001
         },
         {
          "sin": 1.8443279255020149,
          "t": 1.16
         },
         {
          "sin": 1.876306680043863,
          "t": 1.17
         },
         {
          "sin": 1.9048270524660194,
          "t": 1.18
         },
         {
          "sin": 1.9297764858882511,
          "t": 1.19
         },
         {
          "sin": 1.9510565162951534,
          "t": 1.2
         },
         {
          "sin": 1.968583161128631,
          "t": 1.21
         },
         {
          "sin": 1.9822872507286886,
          "t": 1.22
         },
         {
          "sin": 1.9921147013144778,
          "t": 1.23
         },
         {
          "sin": 1.9980267284282716,
          "t": 1.24
         },
         {
          "sin": 2,
          "t": 1.25
         },
         {
          "sin": 1.9980267284282716,
          "t": 1.26
         },
         {
          "sin": 1.992114701314478,
          "t": 1.27
         },
         {
          "sin": 1.9822872507286886,
          "t": 1.28
         },
         {
          "sin": 1.968583161128631,
          "t": 1.29
         },
         {
          "sin": 1.9510565162951536,
          "t": 1.3
         },
         {
          "sin": 1.9297764858882518,
          "t": 1.31
         },
         {
          "sin": 1.9048270524660191,
          "t": 1.32
         },
         {
          "sin": 1.8763066800438635,
          "t": 1.33
         },
         {
          "sin": 1.844327925502015,
          "t": 1.34
         },
         {
          "sin": 1.8090169943749477,
          "t": 1.35
         },
         {
          "sin": 1.7705132427757886,
          "t": 1.36
         },
         {
          "sin": 1.7289686274214109,
          "t": 1.37
         },
         {
          "sin": 1.6845471059286883,
          "t": 1.3800000000000001
         },
         {
          "sin": 1.6374239897486897,
          "t": 1.3900000000000001
         },
         {
          "sin": 1.5877852522924734,
          "t": 1.4000000000000001
         },
         {
          "sin": 1.5358267949789972,
          "t": 1.41
         },
         {
          "sin": 1.481753674101716,
          "t": 1.42
         },
         {
          "sin": 1.425779291565074,
          "t": 1.43
         },
         {
          "sin": 1.368124552684678,
          "t": 1.44
         },
         {
          "sin": 1.309016994374948,
          "t": 1.45
         },
         {
          "sin": 1.2486898871648555,
          "t": 1.46
         },
         {
          "sin": 1.1873813145857257,
          "t": 1.47
         },
         {
          "sin": 1.1253332335643038,
          "t": 1.48
         },
         {
          "sin": 1.0627905195293135,
          "t": 1.49
         },
         {
          "sin": 1.0000000000000004,
          "t": 1.5
         },
         {
          "sin": 0.9372094804706873,
          "t": 1.51
         },
         {
          "sin": 0.8746667664356969,
          "t": 1.52
         },
         {
          "sin": 0.8126186854142751,
          "t": 1.53
         },
         {
          "sin": 0.7513101128351453,
          "t": 1.54
         },
         {
          "sin": 0.690983005625053,
          "t": 1.55
         },
         {
          "sin": 0.6318754473153227,
          "t": 1.56
         },
         {
          "sin": 0.5742207084349267,
          "t": 1.57
         },
         {
          "sin": 0.5182463258982843,
          "t": 1.58
         },
         {
          "sin": 0.46417320502100334,
          "t": 1.59
         },
         {
          "sin": 0.4122147477075272,
          "t": 1.6
         },
         {
          "sin": 0.3625760102513095,
          "t": 1.61
         },
         {
          "sin": 0.31545289407131083,
          "t": 1.62
         },
         {
          "sin": 0.2710313725785882,
          "t": 1.6300000000000001
         },
         {
          "sin": 0.22948675722421086,
          "t": 1.6400000000000001
         },
         {
          "sin": 0.19098300562505277,
          "t": 1.6500000000000001
         },
         {
          "sin": 0.15567207449798437,
          "t": 1.6600000000000001
         },
         {
          "sin": 0.12369331995613697,
          "t": 1.67
         },
         {
          "sin": 0.09517294753398109,
          "t": 1.68
         },
         {
          "sin": 0.07022351411174865,
          "t": 1.69
         },
         {
          "sin": 0.04894348370484658,
          "t": 1.7
         },
         {
          "sin": 0.031416838871369035,
          "t": 1.71
         },
         {
          "sin": 0.0177127492713115,
          "t": 1.72
         },
         {
          "sin": 0.007885298685522124,
          "t": 1.73
         },
         {
          "sin": 0.001973271571728441,
          "t": 1.74
         },
         {
          "sin": 0,
          "t": 1.75
         },
         {
          "sin": 0.001973271571728441,
          "t": 1.76
         },
         {
          "sin": 0.007885298685522013,
          "t": 1.77
         },
         {
          "sin": 0.01771274927131139,
          "t": 1.78
         },
         {
          "sin": 0.03141683887136881,
          "t": 1.79
         },
         {
          "sin": 0.04894348370484625,
          "t": 1.8
         },
         {
          "sin": 0.07022351411174832,
          "t": 1.81
         },
         {
          "sin": 0.09517294753398076,
          "t": 1.82
         },
         {
          "sin": 0.12369331995613653,
          "t": 1.83
         },
         {
          "sin": 0.1556720744979848,
          "t": 1.84
         },
         {
          "sin": 0.19098300562505233,
          "t": 1.85
         },
         {
          "sin": 0.2294867572242114,
          "t": 1.86
         },
         {
          "sin": 0.2710313725785889,
          "t": 1.87
         },
         {
          "sin": 0.3154528940713115,
          "t": 1.8800000000000001
         },
         {
          "sin": 0.36257601025131025,
          "t": 1.8900000000000001
         },
         {
          "sin": 0.41221474770752653,
          "t": 1.9000000000000001
         },
         {
          "sin": 0.46417320502100423,
          "t": 1.9100000000000001
         },
         {
          "sin": 0.5182463258982837,
          "t": 1.92
         },
         {
          "sin": 0.574220708434926,
          "t": 1.93
         },
         {
          "sin": 0.6318754473153219,
          "t": 1.94
         },
         {
          "sin": 0.6909830056250521,
          "t": 1.95
         },
         {
          "sin": 0.7513101128351444,
          "t": 1.96
         },
         {
          "sin": 0.8126186854142742,
          "t": 1.97
         },
         {
          "sin": 0.874666766435696,
          "t": 1.98
         },
         {
          "sin": 0.9372094804706865,
          "t": 1.99
         }
        ]
       },
       "encoding": {
        "tooltip": [
         {
          "field": "sin",
          "type": "quantitative"
         },
         {
          "field": "t",
          "type": "quantitative"
         }
        ],
        "x": {
         "field": "t",
         "type": "quantitative"
        },
        "y": {
         "field": "sin",
         "type": "quantitative"
        }
       },
       "mark": "line",
       "selection": {
        "selector002": {
         "bind": "scales",
         "encodings": [
          "x",
          "y"
         ],
         "mark": {
          "fill": "#333",
          "fillOpacity": 0.125,
          "stroke": "white"
         },
         "on": "[mousedown, window:mouseup] > window:mousemove!",
         "resolve": "global",
         "translate": "[mousedown, window:mouseup] > window:mousemove!",
         "type": "interval",
         "zoom": "wheel!"
        }
       }
      },
      "image/png": "[encoded data removed]",
      "text/plain": [
       "<VegaLite 2 object>\n",
       "\n",
       "If you see this message, it means the renderer has not been properly enabled\n",
       "for the frontend that you are using. For more information, see\n",
       "https://altair-viz.github.io/user_guide/troubleshooting.html\n"
      ]
     },
     "execution_count": 27,
     "metadata": {},
     "output_type": "execute_result"
    }
   ],
   "source": [
    "# https://altair-viz.github.io/\n",
    "import altair as alt\n",
    "\n",
    "df = pd.DataFrame(list(zip(s, t)), columns=['sin', 't'])\n",
    "alt.Chart(df).mark_line().encode(\n",
    "    y='sin',\n",
    "    x='t',\n",
    "    tooltip=['sin', 't']\n",
    ").interactive()"
   ]
  },
  {
   "cell_type": "code",
   "execution_count": 13,
   "metadata": {},
   "outputs": [
    {
     "data": {
      "application/vnd.plotly.v1+json": {
       "config": {
        "linkText": "Export to plot.ly",
        "plotlyServerURL": "https://plot.ly",
        "showLink": false
       },
       "data": [
        {
         "type": "scatter",
         "uid": "4b2f7267-4f42-4b9f-ac12-da65b47c4e28",
         "x": [
          0,
          0.01,
          0.02,
          0.03,
          0.04,
          0.05,
          0.06,
          0.07,
          0.08,
          0.09,
          0.1,
          0.11,
          0.12,
          0.13,
          0.14,
          0.15,
          0.16,
          0.17,
          0.18,
          0.19,
          0.2,
          0.21,
          0.22,
          0.23,
          0.24,
          0.25,
          0.26,
          0.27,
          0.28,
          0.29,
          0.3,
          0.31,
          0.32,
          0.33,
          0.34,
          0.35000000000000003,
          0.36,
          0.37,
          0.38,
          0.39,
          0.4,
          0.41000000000000003,
          0.42,
          0.43,
          0.44,
          0.45,
          0.46,
          0.47000000000000003,
          0.48,
          0.49,
          0.5,
          0.51,
          0.52,
          0.53,
          0.54,
          0.55,
          0.56,
          0.5700000000000001,
          0.58,
          0.59,
          0.6,
          0.61,
          0.62,
          0.63,
          0.64,
          0.65,
          0.66,
          0.67,
          0.68,
          0.6900000000000001,
          0.7000000000000001,
          0.71,
          0.72,
          0.73,
          0.74,
          0.75,
          0.76,
          0.77,
          0.78,
          0.79,
          0.8,
          0.81,
          0.8200000000000001,
          0.8300000000000001,
          0.84,
          0.85,
          0.86,
          0.87,
          0.88,
          0.89,
          0.9,
          0.91,
          0.92,
          0.93,
          0.9400000000000001,
          0.9500000000000001,
          0.96,
          0.97,
          0.98,
          0.99,
          1,
          1.01,
          1.02,
          1.03,
          1.04,
          1.05,
          1.06,
          1.07,
          1.08,
          1.09,
          1.1,
          1.11,
          1.12,
          1.1300000000000001,
          1.1400000000000001,
          1.1500000000000001,
          1.16,
          1.17,
          1.18,
          1.19,
          1.2,
          1.21,
          1.22,
          1.23,
          1.24,
          1.25,
          1.26,
          1.27,
          1.28,
          1.29,
          1.3,
          1.31,
          1.32,
          1.33,
          1.34,
          1.35,
          1.36,
          1.37,
          1.3800000000000001,
          1.3900000000000001,
          1.4000000000000001,
          1.41,
          1.42,
          1.43,
          1.44,
          1.45,
          1.46,
          1.47,
          1.48,
          1.49,
          1.5,
          1.51,
          1.52,
          1.53,
          1.54,
          1.55,
          1.56,
          1.57,
          1.58,
          1.59,
          1.6,
          1.61,
          1.62,
          1.6300000000000001,
          1.6400000000000001,
          1.6500000000000001,
          1.6600000000000001,
          1.67,
          1.68,
          1.69,
          1.7,
          1.71,
          1.72,
          1.73,
          1.74,
          1.75,
          1.76,
          1.77,
          1.78,
          1.79,
          1.8,
          1.81,
          1.82,
          1.83,
          1.84,
          1.85,
          1.86,
          1.87,
          1.8800000000000001,
          1.8900000000000001,
          1.9000000000000001,
          1.9100000000000001,
          1.92,
          1.93,
          1.94,
          1.95,
          1.96,
          1.97,
          1.98,
          1.99
         ],
         "y": [
          1,
          1.0627905195293135,
          1.1253332335643043,
          1.1873813145857246,
          1.2486898871648549,
          1.3090169943749475,
          1.368124552684678,
          1.4257792915650727,
          1.4817536741017152,
          1.5358267949789965,
          1.5877852522924731,
          1.6374239897486897,
          1.6845471059286887,
          1.7289686274214116,
          1.7705132427757893,
          1.8090169943749475,
          1.844327925502015,
          1.8763066800438637,
          1.9048270524660196,
          1.9297764858882513,
          1.9510565162951536,
          1.968583161128631,
          1.9822872507286886,
          1.992114701314478,
          1.9980267284282716,
          2,
          1.9980267284282716,
          1.9921147013144778,
          1.9822872507286886,
          1.968583161128631,
          1.9510565162951536,
          1.9297764858882513,
          1.9048270524660196,
          1.8763066800438635,
          1.8443279255020149,
          1.8090169943749475,
          1.7705132427757893,
          1.7289686274214116,
          1.6845471059286887,
          1.6374239897486897,
          1.5877852522924734,
          1.5358267949789965,
          1.4817536741017157,
          1.4257792915650729,
          1.3681245526846781,
          1.3090169943749475,
          1.2486898871648549,
          1.1873813145857246,
          1.1253332335643045,
          1.0627905195293135,
          1.0000000000000002,
          0.9372094804706866,
          0.8746667664356957,
          0.8126186854142752,
          0.7513101128351449,
          0.6909830056250523,
          0.6318754473153216,
          0.5742207084349273,
          0.518246325898285,
          0.46417320502100357,
          0.412214747707527,
          0.36257601025131037,
          0.3154528940713113,
          0.27103137257858867,
          0.22948675722421064,
          0.19098300562505266,
          0.1556720744979847,
          0.12369331995613642,
          0.0951729475339802,
          0.07022351411174854,
          0.04894348370484647,
          0.031416838871369035,
          0.01771274927131128,
          0.007885298685522235,
          0.001973271571728441,
          0,
          0.001973271571728441,
          0.007885298685522124,
          0.01771274927131128,
          0.031416838871368924,
          0.04894348370484636,
          0.07022351411174876,
          0.09517294753398042,
          0.12369331995613664,
          0.15567207449798448,
          0.19098300562505244,
          0.2294867572242104,
          0.27103137257858845,
          0.31545289407131105,
          0.36257601025131037,
          0.41221474770752675,
          0.4641732050210037,
          0.5182463258982847,
          0.5742207084349278,
          0.6318754473153222,
          0.6909830056250523,
          0.7513101128351447,
          0.8126186854142753,
          0.8746667664356953,
          0.9372094804706868,
          0.9999999999999998,
          1.0627905195293128,
          1.1253332335643043,
          1.1873813145857242,
          1.2486898871648549,
          1.3090169943749472,
          1.3681245526846784,
          1.4257792915650727,
          1.4817536741017157,
          1.5358267949789965,
          1.5877852522924738,
          1.63742398974869,
          1.6845471059286892,
          1.7289686274214118,
          1.7705132427757893,
          1.809016994374948,
          1.8443279255020149,
          1.876306680043863,
          1.9048270524660194,
          1.9297764858882511,
          1.9510565162951534,
          1.968583161128631,
          1.9822872507286886,
          1.9921147013144778,
          1.9980267284282716,
          2,
          1.9980267284282716,
          1.992114701314478,
          1.9822872507286886,
          1.968583161128631,
          1.9510565162951536,
          1.9297764858882518,
          1.9048270524660191,
          1.8763066800438635,
          1.844327925502015,
          1.8090169943749477,
          1.7705132427757886,
          1.7289686274214109,
          1.6845471059286883,
          1.6374239897486897,
          1.5877852522924734,
          1.5358267949789972,
          1.481753674101716,
          1.425779291565074,
          1.368124552684678,
          1.309016994374948,
          1.2486898871648555,
          1.1873813145857257,
          1.1253332335643038,
          1.0627905195293135,
          1.0000000000000004,
          0.9372094804706873,
          0.8746667664356969,
          0.8126186854142751,
          0.7513101128351453,
          0.690983005625053,
          0.6318754473153227,
          0.5742207084349267,
          0.5182463258982843,
          0.46417320502100334,
          0.4122147477075272,
          0.3625760102513095,
          0.31545289407131083,
          0.2710313725785882,
          0.22948675722421086,
          0.19098300562505277,
          0.15567207449798437,
          0.12369331995613697,
          0.09517294753398109,
          0.07022351411174865,
          0.04894348370484658,
          0.031416838871369035,
          0.0177127492713115,
          0.007885298685522124,
          0.001973271571728441,
          0,
          0.001973271571728441,
          0.007885298685522013,
          0.01771274927131139,
          0.03141683887136881,
          0.04894348370484625,
          0.07022351411174832,
          0.09517294753398076,
          0.12369331995613653,
          0.1556720744979848,
          0.19098300562505233,
          0.2294867572242114,
          0.2710313725785889,
          0.3154528940713115,
          0.36257601025131025,
          0.41221474770752653,
          0.46417320502100423,
          0.5182463258982837,
          0.574220708434926,
          0.6318754473153219,
          0.6909830056250521,
          0.7513101128351444,
          0.8126186854142742,
          0.874666766435696,
          0.9372094804706865
         ]
        }
       ],
       "layout": {
        "autosize": true,
        "xaxis": {
         "autorange": true,
         "range": [
          0,
          1.99
         ],
         "type": "linear"
        },
        "yaxis": {
         "autorange": true,
         "range": [
          -0.11111111111111112,
          2.111111111111111
         ],
         "type": "linear"
        }
       }
      },
      "image/png": "[encoded data removed]"
     },
     "metadata": {},
     "output_type": "display_data"
    }
   ],
   "source": [
    "import plotly\n",
    "\n",
    "data = [go.Scatter(x=t, y=s)]\n",
    "plotly.offline.iplot(data)"
   ]
  },
  {
   "cell_type": "code",
   "execution_count": null,
   "metadata": {},
   "outputs": [],
   "source": []
  }
 ],
 "metadata": {
  "kernelspec": {
   "display_name": "Python 3",
   "language": "python",
   "name": "python3"
  },
  "language_info": {
   "codemirror_mode": {
    "name": "ipython",
    "version": 3
   },
   "file_extension": ".py",
   "mimetype": "text/x-python",
   "name": "python",
   "nbconvert_exporter": "python",
   "pygments_lexer": "ipython3",
   "version": "3.7.0"
  }
 },
 "nbformat": 4,
 "nbformat_minor": 2
}
